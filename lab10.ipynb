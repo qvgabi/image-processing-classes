{
 "cells": [
  {
   "cell_type": "markdown",
   "metadata": {},
   "source": [
    "# Przekształcenia morfologiczne\n",
    "\n",
    "## Cel:\n",
    "- zapoznanie z podstawowymi przekształceniami morfologicznymi – erozją, dylatacją, otwarciem, zamknieciem, transformacją trafi, nie trafi,\n",
    "- zapoznanie ze złożonymi operacjami morfologicznymi wykorzystującymi rekonstrukcję morfologiczną,\n",
    "- zapoznanie z operacjami morfologicznym dla obrazów w odcieniach szarości – erozją, dylatacją, otwarciem, zamknieciem, filtrami top-hat i bottom-hat,\n",
    "- zapoznanie z wykorzystaniem złożonych operacji morfologicznych przy rozwiązywaniu konkretnego problemu,\n",
    "- zadanie domowe: wykorzystanie morfologii do implementacji ,,gry w życie''."
   ]
  },
  {
   "cell_type": "markdown",
   "metadata": {},
   "source": [
    "## Przypomnienie teorii\n",
    "\n",
    "### Element strukturalny\n",
    "\n",
    "Element strukturalny obrazu jest to pewien wycinek obrazu (przy dyskretnej reprezentacji obrazu – pewien podzbiór jego elementów). Najcześciej stosowanym elementem strukturalnym jest kwadratowa maska o rozmiarze 3×3 lub 5×5. Niekiedy pożądane są maski o innym kształcie, np. zbliżonym do elipsy.\n",
    "\n",
    "### Erozja\n",
    "\n",
    "Erozja (ang. _erosion_) jest podstawowym przekształceniem morfologicznym. Zakładamy, że obraz wyjściowy zawiera pewien obszar (figurę) X, wyróżniający się pewną charakterystyczną cechą (np. odróżniającą się od tła jasnością). Figura X po wykonaniu operacji erozji to zbiór punktów centralnych wszystkich elementów strukturalnych, które w całości mieszczą się we wnetrzu obszaru X. Miarą stopnia erozji jest wielkość elementu strukturalnego.\n",
    "\n",
    "Erozje można traktować jako filtr minimalny, tj. z danego otoczenia piksela (określanego przez maskę) do obrazu wynikowego wybierana jest wartość minimalna.\n",
    "\n",
    "### Dylatacja\n",
    "\n",
    "Dylatacja (ang. _dilation_): Zakładamy, że obraz wejściowy zawiera obszar X wyróżniający się pewną charakterystyczną cechą (np. jasnością). Figura przekształcona przez dylatacje to zbiór punktów centralnych wszystkich elementów strukturalnych, których którykolwiek punkt mieści sie we wnetrzu obszaru X. Miarą  dylatacji jest wielkość elementu strukturalnego.\n",
    "\n",
    "Dylatacje można traktować jako filtr maksymalny, tj. z danego otoczenia piksela (określanego\n",
    "przez maske) do obrazu wynikowego wybierana jest wartość maksymalna.\n",
    "\n",
    "### Otwarcie i zamknięcie\n",
    "\n",
    "Otwarcie (ang. _opening_) polega na wykonaniu najpierw operacji erozji, a nastepnie dylatacji.\n",
    "\n",
    "> Otwarcie = erozja + dylatacja\n",
    "\n",
    "Zamkniecie (ang. _closing_) polega na wykonaniu najpierw operacji dylatacji, a nastepnie erozji.\n",
    "\n",
    "> Zamkniecie = dylatacja + erozja\n",
    "\n",
    "### Obrazy w odcieniu szarości\n",
    "\n",
    "Obrazy w odcieniu szarości – detekcja dolin i szczytów (top-hat, bottom-hat):\n",
    "\n",
    "Aby wyodrebnić z obrazu lokalne ekstrema można wykorzystać zdefiniowane wcześniej przekształcenia: otwarcie i zamkniecie. W celu wyszukania lokalnych maksimów (szczytów) należy od wyniku otwarcia danego obrazu odjąć obraz wyjściowy. Analogicznie, aby wyodrebnić lokalne minima obrazu, należy dokonać podobnej operacji, z tym że pierwszą operacją bedzie zamkniecie. Uwaga! Należy zwrócić uwagę, że poniższe metody służą do detekcji (pokreślenia) tylko lokalnych ekstremów!"
   ]
  },
  {
   "cell_type": "markdown",
   "metadata": {},
   "source": [
    "## Podstawowe operacje morfologiczne: erozja, dylatacja, zamknięcie, trafi nie trafi\n",
    "\n",
    "1. Wczytaj obraz ertka.bmp\n",
    "2. Wykonaj operację erozji `cv2.erode`. Parametrami funkcji są obraz oraz element strukturalny. Element można stworzyć samodzielnie jako tablicę składającą się z 0 i 1 `np.ones((3,3))` lub posłużyć się funkcją `cv2.getStructuringElement`, do której należy podać kształt `cv2.MORPH_RECT` oraz wielkość elementu `(3,3)`. Na początku użyj kwadratu o rozmiarze 3 pikseli.\n",
    "3. Wyświetl obraz oryginalny oraz po wykonaniu erozji – najlepiej na wspólnym wykresie. Upewnij się, że rozumiesz, jak działa erozja.\n",
    "4. Zmień element strukturalny (inny kształt – koło, diament lub inny rozmiar). Ponownie wykonaj erozję, sprawdź rezultat działania operacji.\n",
    "5. Oprócz zmiany elementu strukturalnego na rezultat erozji można wpłynąć zwiększając liczbę iteracji (np. wykonać erozję trzykrotnie). Ustal element strukturalny na kwadrat o boku 3 piksele. Wykonaj erozję obrazu _ertka_ dwukrotnie, a następnie trzykrotnie. Zaobserwuj rezultaty. Wskazówka: warto zajrzeć do dokumentacji funkcji `erode`.\n",
    "6. Wczytaj obraz buzka.bmp. Dobierz element strukturalny (zdefiniuj go ręcznie jako macierz 0 i 1) w taki sposób, aby usunąć włosy o określonej orientacji (ukośnie lewo lub prawo).\n",
    "7. Uwaga: pokazane metody wpływania na rezultaty erozji wykorzystuje się identycznie dla pozostałych operacji morfologicznych – dylatacji, otwarcia i zamknięcia.\n",
    "8. Operacją odwrotną do erozji jest dylatacja `cv2.dilate`. Ustal element strukturalny na kwadrat o boku 3 piksele. Wykonaj dylatację obrazu _ertka_. Zapoznaj się z rezultatem działania.\n",
    "9. Na wspólnym wykresie wyświetl obraz oryginalny oraz obrazy po operacjach morfologicznych: erozja, dylatacja, otwarcie i zamkniecie. Otwarcie i zamknięcie można uzyskać za pomocą `cv2.morphologyEx(img, operacja, element_strukturalny)`, gdzie typem operacji jest `cv2.MORPH_OPEN` lub `cv2.MORPH_CLOSE`.\n",
    "10. Zmień obraz _ertka_ na _wyspa_, a następnie na _kolka_. Wykonaj na każdym cztery przedstawione operacje morfologiczne. Zaobserwuj rezultaty.\n",
    "11. Minizadanko: wykorzystując poznane operacje morfologiczne spowoduj, że na obrazie _ertka_ pozostanie tylko napis RT (bez wypustek i dziur).\n",
    "12. Niekiedy potrzebne jest wykrycie konkretnych konfiguracji pikseli na obrazie – przydaje się do tego transformacja trafi, nie trafi (ang. _hit-or-miss_). Pozwala ona wykryć na obrazie obecność elementów, które dokładnie odpowiadają masce.\n",
    "13. Wczytaj obraz hom.bmp. Wyświetl go. Załóżmy, że chcemy wykryć na obrazie krzyżyki 3x3. Zdefiniuj następujący element strukturalny:\n",
    "```\n",
    "[0,1,0]\n",
    "[1,1,1]\n",
    "[0,1,0]\n",
    "```\n",
    "Wykonaj transformację trafi, nie trafi – `cv2.morphologyEx(hom, cv2.MORPH_HITMISS, se1)`. Rezultat operacji wyświetl. Czy udało się zrealizować zadanie? Jeżeli pojawiają się u Państwa błędy związane z typem danych, należy obraz wejściowy przekonwertować na skalę szarości: `cv2.cvtColor(hom, cv2.COLOR_BGR2GRAY)`.\n"
   ]
  },
  {
   "cell_type": "code",
   "execution_count": null,
   "metadata": {},
   "outputs": [],
   "source": [
    "import matplotlib.pyplot as plt\n",
    "import cv2\n",
    "import numpy as np"
   ]
  },
  {
   "cell_type": "code",
   "execution_count": null,
   "metadata": {},
   "outputs": [],
   "source": [
    "def display(figsize, **kwargs):\n",
    "    amount = len(kwargs)\n",
    "    fig, axs = plt.subplots(1, amount, figsize=figsize)\n",
    "    for i, key in enumerate(kwargs):\n",
    "        axs[i].imshow(kwargs[key], 'gray')\n",
    "        axs[i].axis('off')\n",
    "        axs[i].set_title(key)"
   ]
  },
  {
   "cell_type": "code",
   "execution_count": null,
   "metadata": {},
   "outputs": [],
   "source": [
    "img = cv2.imread('ertka.bmp', cv2.IMREAD_GRAYSCALE)\n",
    "kernel = cv2.getStructuringElement(cv2.MORPH_RECT, (3, 3))\n",
    "erosion = cv2.erode(img, kernel)\n",
    "\n",
    "display(figsize=(15,15), img=img, erosion=erosion)"
   ]
  },
  {
   "cell_type": "code",
   "execution_count": null,
   "metadata": {},
   "outputs": [],
   "source": [
    "img = cv2.imread('ertka.bmp', cv2.IMREAD_GRAYSCALE)\n",
    "kernel = cv2.getStructuringElement(cv2.MORPH_ELLIPSE, (3, 3))\n",
    "erosion = cv2.erode(img, kernel)\n",
    "\n",
    "display(figsize=(15,15), img=img, erosion_elipsse=erosion)"
   ]
  },
  {
   "cell_type": "code",
   "execution_count": null,
   "metadata": {},
   "outputs": [],
   "source": [
    "img = cv2.imread('ertka.bmp', cv2.IMREAD_GRAYSCALE)\n",
    "kernel = cv2.getStructuringElement(cv2.MORPH_RECT, (3, 3))\n",
    "erosion = cv2.erode(img, kernel, 2)\n",
    "\n",
    "display(figsize=(15,15), img=img, erosion_iter=erosion)"
   ]
  },
  {
   "cell_type": "code",
   "execution_count": null,
   "metadata": {},
   "outputs": [],
   "source": [
    "img = cv2.imread('ertka.bmp', cv2.IMREAD_GRAYSCALE)\n",
    "kernel = cv2.getStructuringElement(cv2.MORPH_RECT, (3, 3))\n",
    "erosion = cv2.erode(img, kernel, 4)\n",
    "\n",
    "display(figsize=(15,15), img=img, erosion_elipsse=erosion)"
   ]
  },
  {
   "cell_type": "code",
   "execution_count": null,
   "metadata": {},
   "outputs": [],
   "source": [
    "img = cv2.imread('buzka.bmp', cv2.IMREAD_GRAYSCALE)\n",
    "kernel = cv2.getStructuringElement(cv2.MORPH_CROSS, (3, 3))\n",
    "erosion = cv2.erode(img, kernel)\n",
    "\n",
    "display(figsize=(15,15), img=img, erosion_cross=erosion)"
   ]
  },
  {
   "cell_type": "code",
   "execution_count": null,
   "metadata": {},
   "outputs": [],
   "source": [
    "img = cv2.imread('ertka.bmp', cv2.IMREAD_GRAYSCALE)\n",
    "kernel = cv2.getStructuringElement(cv2.MORPH_RECT, (3, 3))\n",
    "dilation = cv2.dilate(img, kernel)\n",
    "\n",
    "display(figsize=(15,15), img=img, dilation_rect=dilation)"
   ]
  },
  {
   "cell_type": "code",
   "execution_count": null,
   "metadata": {},
   "outputs": [],
   "source": [
    "def morph(img):\n",
    "    kernel = cv2.getStructuringElement(cv2.MORPH_RECT, (3, 3))\n",
    "    \n",
    "    erosion = cv2.erode(img, kernel, iterations=1)\n",
    "    dilation = cv2.dilate(img, kernel, iterations=1)\n",
    "    opening = cv2.morphologyEx(img, cv2.MORPH_OPEN, kernel)\n",
    "    closing = cv2.morphologyEx(img, cv2.MORPH_CLOSE, kernel)\n",
    "    \n",
    "    display(figsize=(25,25), img=img, \n",
    "           erosion=erosion, dilation=dilation,\n",
    "           opening=opening, closing=closing)"
   ]
  },
  {
   "cell_type": "code",
   "execution_count": null,
   "metadata": {},
   "outputs": [],
   "source": [
    "IMAGES = ['ertka.bmp', 'wyspa.bmp', 'kolka.bmp']\n",
    "\n",
    "for i in IMAGES:\n",
    "    morph(cv2.imread(i, cv2.IMREAD_GRAYSCALE))"
   ]
  },
  {
   "cell_type": "code",
   "execution_count": null,
   "metadata": {},
   "outputs": [],
   "source": [
    "img = cv2.imread('ertka.bmp', cv2.IMREAD_GRAYSCALE)\n",
    "kernel = cv2.getStructuringElement(cv2.MORPH_RECT, (3, 3))\n",
    "closing = cv2.morphologyEx(img, cv2.MORPH_CLOSE, kernel)\n",
    "combined = cv2.erode(closing, kernel)\n",
    "\n",
    "display(figsize=(15,15), img=img, combined=combined)"
   ]
  },
  {
   "cell_type": "code",
   "execution_count": null,
   "metadata": {},
   "outputs": [],
   "source": [
    "img = cv2.imread('hom.bmp', cv2.IMREAD_GRAYSCALE)\n",
    "kernel = cv2.getStructuringElement(cv2.MORPH_CROSS, (3, 3))\n",
    "hitmiss = cv2.morphologyEx(img, cv2.MORPH_HITMISS, kernel)\n",
    "\n",
    "display(figsize=(15,15), img=img, hit_miss=hitmiss)"
   ]
  },
  {
   "cell_type": "markdown",
   "metadata": {},
   "source": [
    "## Inne operacje morfologiczne\n",
    "Do innych operacji morfologicznych należą między innymi ścienianie (ang. _thinning_), szkieletyzacja (ang. _skeletonization_), rekonstrukcja morfologiczna (ang. _morphological reconstruction_), czyszczenie brzegu (ang. _clearing border_) i uzupełnianie dziur (ang. _filling holes_). W tym rozdziale zostanie zaprezentowana rekonstrukcja morfologiczna.\n",
    "\n",
    "Rekonstrukcja morfologiczna jest operacją trójargumentową. Wymaga podania markera (obrazu, od którego zacznie się transformacja), maski (ograniczenia transformacji) oraz elementu strukturalnego. Operacja polega na wykonywaniu kroków (dopóki w dwóch kolejnych iteracjach nic się nie zmieni):\n",
    "- dylatacja obrazu markera (z danym elementem strukturalnym),\n",
    "- nowy marker = część wspólna dylatacji starego markera i maski.\n",
    "\n",
    "Trzy operacje, które wykorzystują schemat rekonstrukcji to: \n",
    "- otwarcie poprzez rekonstrukcję,\n",
    "- wypełnianie dziur,\n",
    "- czyszczenie brzegu.\n",
    "\n",
    "### Otwarcie poprzez rekonstrukcję:\n",
    "- Wczytaj obraz text.bmp, wyświetl go.\n",
    "- Załóżmy, że chcemy wykryć na obrazie litery, które zawierają długie pionowe fragmenty. W pierwszym podejściu stosujemy morfologiczne otwarcie z maską pionową o wysokości 51 pikseli (taka jest średnia wysokość liter na obrazie – `np.ones((51,1))`. Sprawdź rezultat takiej operacji.\n",
    "- Detekcja wprawdzie sie udała, ale otrzymujemy tylko pionowe kreski.\n",
    "- Rozwiązaniem jest rekonstrukcja – jako marker wybieramy obraz oryginalny poddany erozji. Maskę stanowi obraz oryginalny. Samodzielnie dobierz element strukturalny.\n",
    "- Zaimplementuj rekonstrukcję i porównaj efekt otwarcia i rekonstrukcji.\n"
   ]
  },
  {
   "cell_type": "code",
   "execution_count": null,
   "metadata": {},
   "outputs": [],
   "source": [
    "img = cv2.imread('text.bmp', cv2.IMREAD_GRAYSCALE)\n",
    "kernel = np.ones((51, 1))\n",
    "opening = cv2.morphologyEx(img, cv2.MORPH_OPEN, kernel)\n",
    "\n",
    "display(figsize=(15,15), img=img, opening=opening)"
   ]
  },
  {
   "cell_type": "code",
   "execution_count": null,
   "metadata": {},
   "outputs": [],
   "source": [
    "def compare(img1, img2):\n",
    "    r = img1 - img2\n",
    "    return np.all(r == 0)\n",
    "\n",
    "def reconstruction(marker, mask, kernel):\n",
    "    while True:\n",
    "        dilation = cv2.dilate(marker, kernel)\n",
    "        new_marker = dilation & mask\n",
    "        if not compare(marker, new_marker):\n",
    "            marker = new_marker\n",
    "        else: return new_marker"
   ]
  },
  {
   "cell_type": "code",
   "execution_count": null,
   "metadata": {},
   "outputs": [],
   "source": [
    "img = cv2.imread('text.bmp', cv2.IMREAD_GRAYSCALE)\n",
    "kernel = np.ones((51, 3))\n",
    "mask = img\n",
    "marker = cv2.erode(img, kernel)\n",
    "reconstructed = reconstruction(marker, mask, kernel)\n",
    "\n",
    "display(figsize=(25,25), original=img, opening=opening, reconstructed=reconstructed)"
   ]
  },
  {
   "cell_type": "markdown",
   "metadata": {},
   "source": [
    "## Operacje morfologiczne dla obrazów w skali szarości\n",
    "\n",
    "Wszystkie dotychczasowe operacje (oprócz transformacji trafi, nie trafi) mają swoje odpowieniki dla obrazów w skali szarości. Konieczne jest tylko podanie definicji erozji i dylatacji w nieco innej formie:\n",
    "- Erozja – filtr minimalny.\n",
    "- Dylatacja – filtr maksymalny.\n",
    "\n",
    "\n",
    "1. Wczytaj obraz ferrari.bmp i wykonaj operacje morfologiczne: erozję i dylatację. Element strukturalny ustal na kwadrat 3×3. Oblicz też różnicę pomiędzy obrazem po dylatacji a po erozji – czyli tzw. gradient morfologiczny. Rezultaty wyświetl na wspólnym wykresie.\n",
    "2. Otwarcie to tłumienie jasnych detali na obrazie. Zamkniecie to tłumienie ciemnych detali na obrazie. Potwierdź powyższe stwierdzenia wykonując obie operacje na obrazie _ferrari_.\n",
    "3. Wykonaj operacje top-hat i bottom-hat `cv2.morphologyEx(img, cv2.MORPH_TOPHAT, strel)` oraz `cv2.morphologyEx(img, cv2.MORPH_BLACKHAT, strel)` na obrazie _ferrari_. Jakie obszary udało sie wykryć za pomocą tej operacji? Z jakich operacji składa sie filtr top-hat?\n",
    "4. Wczytaj obraz rice.png (z laboratorium o binaryzacji). Wyświetl go. Zwróć uwage na niejednorodne oświetlenie. Wykonaj operacje top-hat z dużym elementem strukturalnym (np. koło o rozmiarze 10) na tym obrazie. Wynik wyświetl. Co stało się z niejednorodnością oświetlenia?"
   ]
  },
  {
   "cell_type": "code",
   "execution_count": null,
   "metadata": {
    "pycharm": {
     "name": "#%%\n"
    }
   },
   "outputs": [],
   "source": [
    "img = cv2.imread('ferrari.bmp', cv2.IMREAD_GRAYSCALE)\n",
    "kernel = np.ones((3,3))\n",
    "erosion = cv2.erode(img, kernel)\n",
    "dilation = cv2.dilate(img, kernel)\n",
    "diff = dilation - erosion\n",
    "\n",
    "display(figsize=(25,25), original=img, dilation=dilation, erosion=erosion, difference=diff)"
   ]
  },
  {
   "cell_type": "code",
   "execution_count": null,
   "metadata": {},
   "outputs": [],
   "source": [
    "img = cv2.imread('ferrari.bmp', cv2.IMREAD_GRAYSCALE)\n",
    "kernel = np.ones((3,3))\n",
    "opening = cv2.morphologyEx(img, cv2.MORPH_OPEN, kernel)\n",
    "closing = cv2.morphologyEx(img, cv2.MORPH_CLOSE, kernel)\n",
    "\n",
    "display(figsize=(25,25), original=img, opening=opening, closing=closing)"
   ]
  },
  {
   "cell_type": "code",
   "execution_count": null,
   "metadata": {},
   "outputs": [],
   "source": [
    "img = cv2.imread('ferrari.bmp', cv2.IMREAD_GRAYSCALE)\n",
    "kernel = np.ones((3,3))\n",
    "tophat = cv2.morphologyEx(img, cv2.MORPH_TOPHAT, kernel)\n",
    "blackhat = cv2.morphologyEx(img, cv2.MORPH_BLACKHAT, kernel)\n",
    "\n",
    "display(figsize=(25,25), original=img, tophat=tophat, blackhat=blackhat)"
   ]
  },
  {
   "cell_type": "code",
   "execution_count": null,
   "metadata": {},
   "outputs": [],
   "source": [
    "img = cv2.imread('rice.png', cv2.IMREAD_GRAYSCALE)\n",
    "kernel = np.ones((10,10))\n",
    "tophat = cv2.morphologyEx(img, cv2.MORPH_TOPHAT, kernel)\n",
    "\n",
    "display(figsize=(25,25), original=img, tophat=tophat)"
   ]
  },
  {
   "cell_type": "markdown",
   "metadata": {},
   "source": [
    "## Przykład zastosowania morfologii\n",
    "\n",
    "1. Wczytaj obraz calculator.bmp. Wyświetl go. Zadanie do realizacji: wyizolować tekst na klawiszach kalkulatora.\n",
    "2. W pierwszym kroku usunięte zostaną poziome odbicia znajdujące się na górnej krawędzi każdego z klawiszy. Wykorzystamy fakt, że odbicie jest dłuższe niż jakikolwiek pojedynczy znak. Wykonujemy otwarcie przez rekonstrukcję (można wykorzystać kod z wcześniejszego zadania, ale tym razem mamy do czynienia z obrazem w skali szarości zamiast z binarnym – proszę się zastanowić, jaka operacja jest odpowiednikiem operacji AND?):\n",
    "  - początkowo wykonujemy erozję z elementem strukturalnym w postaci poziomej linii — `np.ones((1,71))`,\n",
    "  - następnie dokonujemy rekonstrukcji: marker – obraz po erozji, maska – obraz oryginalny,\n",
    "  - wynik operacji wyświetl. Dla porównania wyświetl wynik klasycznego otwarcia z takim samym elementem strukturalnym. W czym otwarcie przez rekonstrukcję jest lepsze od klasycznego?\n",
    "3. W poprzednim kroku (tj. w wyniku otwarcia przez rekonstrukcję) uzyskaliśmy obraz tła. Należy go teraz odjąć od obrazu oryginalnego. Ten rodzaj operacji można nazwać top-hat poprzez rekonstrukcję. Wynik wyświetl. Dla porównania wyświetl wynik klasycznej operacji top-hat – różnicy miedzy obrazem oryginalnym a obrazem po klasycznym otwarciu.\n",
    "4. W podobny sposób należy zlikwidować odblaski pionowe:\n",
    "  - erozja z elementem strukturalnym w postaci poziomej linii – `np.ones((1,11))` – zostaną zachowane wszystkie znaki (bo prawie wszystkie są szersze). Uwaga. Operacje wykonujemy na uzyskanym w kroku 3 rezultacie odjęcia od obrazu oryginalnego, obrazu po rekonstrukcji.\n",
    "  - rekonstrukcja: marker – obraz po erozji, maska – obraz z punktu 3 (różnica oryginalnego i tła),\n",
    "  - wynik wyświetl.\n",
    "5. Rezultat jest niemal satysfakcjonujący, ale wystąpił problem z cienkimi pionowymi elementami napisów – np. I na klawiszu ASIN. Wykorzystując fakt, że usunięte znaki znajdują się w bezpośrednim sąsiedztwie istniejących znaków wykonujemy następujące operacje:\n",
    "  - dylatacja z elementem `np.ones((1,21))`,\n",
    "  - rekonstrukcja z markerem w postaci – minimum(obraz po dylatacji z punktu powyżej, obraz uzyskany w punkcie 3, tj. różnica oryginalnego i tła) oraz maską – obraz z pkt. 3.\n",
    "6. Rezultat wyświetl. Czy za pomocą zaproponowanych operacji udało się uzyskać zamierzony efekt – ekstrakcję napisów?\n"
   ]
  },
  {
   "cell_type": "code",
   "execution_count": null,
   "metadata": {},
   "outputs": [],
   "source": [
    "def reconstruction(marker, mask, kernel):\n",
    "    while True:\n",
    "        dilation = cv2.dilate(marker, kernel)\n",
    "        new_marker = cv2.min(dilation, mask)\n",
    "        if not compare(marker, new_marker):\n",
    "            marker = new_marker\n",
    "        else: return new_marker"
   ]
  },
  {
   "cell_type": "code",
   "execution_count": null,
   "metadata": {
    "pycharm": {
     "name": "#%%\n"
    }
   },
   "outputs": [],
   "source": [
    "img = cv2.imread('calculator.bmp', cv2.IMREAD_GRAYSCALE)\n",
    "struct = np.ones((3, 3))\n",
    "\n",
    "# prepare initial mask and marker\n",
    "mask = img\n",
    "marker = cv2.morphologyEx(mask, cv2.MORPH_OPEN, np.ones((1,71)))\n",
    "\n",
    "# 1. step\n",
    "reconstructed = reconstruction(marker=marker, mask=mask, kernel=struct)\n",
    "result_vertical = cv2.absdiff(img, reconstructed)\n",
    "\n",
    "# 2. step\n",
    "marker = cv2.erode(result_vertical, np.ones((1,11)))\n",
    "result_horizontal = reconstruction(marker=marker, mask=result_vertical, kernel=struct)\n",
    "\n",
    "# 3. step\n",
    "marker = cv2.dilate(result_horizontal, np.ones((1, 21)))\n",
    "reconstructed = reconstruction(marker=marker, mask=result_vertical, kernel=struct)\n",
    "\n",
    "# displaying\n",
    "display(figsize=(15, 15), original=img, result=reconstructed)"
   ]
  },
  {
   "cell_type": "markdown",
   "metadata": {},
   "source": [
    "## Zadanie domowe: morfologiczna gra w życie – John Conway\n",
    "\n",
    "### Wykorzystanie operacji LUT w przekształceniu trafi, nie trafi\n",
    "  - Szybszą metodą wykonania transformacji trafi, nie trafi może być operacja LUT.\n",
    "  - Technika polega na zakodowaniu wyników wszystkich interesujących  konfiguracji, a następnie podczas przetwarzania wykorzystania operacji LUT.\n",
    "  - Dla otoczenia 3x3 możliwe jest 512 różnych konfiguracji.\n",
    "  - Aby praktycznie zrealizować operacje, każdej konfiguracji należy nadać unikalny indeks. Jedną z możliwości jest pomnożenie elementu strukturalnego przez macierz (mnożenie odpowiednich elementów):\n",
    "  ```\n",
    "  [[1, 8,  64],\n",
    "   [ 2, 16, 128],\n",
    "   [ 4, 32, 256]]\n",
    "  ```\n",
    "  Przykładowo elementowi:\n",
    "  ```\n",
    "  [[1, 1, 0],\n",
    "   [ 1, 0, 1],\n",
    "   [ 1, 0, 1]]\n",
    "  ```\n",
    "  odpowiada liczba: 1(1) + 2(1) + 4(1) + 8(1) + 128(1) + 256(1) = 399.\n",
    "  \n",
    "### Przykład działania metody – detekcja punktów końcowych na obrazie.\n",
    "  - założenie: punkt końcowy to punkt, który ma dokładnie jednego sąsiada,\n",
    "  - zdefiniuj funkcję, która jako argument pobiera otoczenie, a zwraca 0 lub 1 w zależności od tego, czy rozpatrywany punkt jest końcowy np. dla sąsiedztwa 3×3 punkt będzie końcowy, jeżeli jest zapalony i ma tylko jednego sąsiada (czyli suma pikseli jest równa 2).\n",
    "  - wygeneruj przekodowanie LUT.\n",
    "  - wczytaj obraz szkielet.bmp (należy go przekształcić, aby uzyskać dwuwymiarową tablicę o wartościach 0-1). Wykorzystując wygenerowane przekodowanie LUT wykonaj detekcję zakończeń. Wyświetl obraz oryginalny i po przekodowaniu LUT.\n",
    "\n",
    "### Gra w życie\n",
    "\n",
    "Reguły gry w życie:\n",
    "  - każdy piksel biały, który ma dwóch lub trzech sąsiadów (białych) przeżywa,\n",
    "  - każdy piksel biały, który ma 0,1 lub więcej niż trzech sąsiadów (białych) nie przeżywa (głód lub przeludnienie),\n",
    "  - jeżeli jakieś pole (czarne) sąsiaduje dokładnie z trzema pikselami białymi, to na tym polu ,,rodzi'' się nowy piksel biały.\n",
    "\n",
    "Zadanie:\n",
    "  - za pomocą mechanizmu LUT (opisanego wcześniej) należy zaimplementować morfologiczną gre w życie,\n",
    "  - najważniejszym elementem jest funkcja opisująca reguły gry,\n",
    "  - symulacje należny przeprowadzić dla plansz dostarczonych w pliku gra.py,\n",
    "  - dobrze jest wykonać kilka iteracji – zobaczyć jak zmienia się kształt,\n",
    "  - inne ciekawe kształty do znalezienia w internecie.\n"
   ]
  },
  {
   "cell_type": "code",
   "execution_count": null,
   "metadata": {
    "pycharm": {
     "name": "#%%\n"
    }
   },
   "outputs": [],
   "source": []
  }
 ],
 "metadata": {
  "celltoolbar": "Raw Cell Format",
  "kernelspec": {
   "display_name": "Python 3",
   "language": "python",
   "name": "python3"
  },
  "language_info": {
   "codemirror_mode": {
    "name": "ipython",
    "version": 3
   },
   "file_extension": ".py",
   "mimetype": "text/x-python",
   "name": "python",
   "nbconvert_exporter": "python",
   "pygments_lexer": "ipython3",
   "version": "3.7.9"
  }
 },
 "nbformat": 4,
 "nbformat_minor": 4
}