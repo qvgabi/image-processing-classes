{
 "cells": [
  {
   "cell_type": "markdown",
   "metadata": {
    "pycharm": {
     "name": "#%% md\n"
    }
   },
   "source": [
    "## Zadanie domowe: Segmentacja przez podział i łączenie\n",
    "\n",
    "Omówioną procedurę segmentacji przez rozrost można określić jako podejście z dołu do góry, od szczegółu do ogółu (ang. *bottom-up*) - zaczynamy od pojedynczego piksela i dochodzimy do całego obrazu lub jego fragmentu.\n",
    "Segmentację można również zacząć od całego obrazka i dokonywać jego podziału na fragmenty, które ew. mogą zostać później połączone.\n",
    "Takie podejście można określić jako od góry do dołu, od ogółu do szczegółu (ang. *top-down*).\n",
    "\n",
    "Niech $R$ oznacza cały obraz, a $Q$ wybrany predykat.\n",
    "Sprawdzamy, czy zachodzi zależność $Q(R)= TRUE$.\n",
    "Zwykle tak nie jest, gdyż to oznaczałoby obecność na obrazie tylko jednego obszaru o ''spójnych'' właściwościach, czyli segmentacja w takim przypadku byłaby zbędna (w szczególności zachodziłoby to dla obrazu jednorodnego).\n",
    "Jeśli $Q(R) = FALSE$ dzielimy obszar $R$ na podobszary.\n",
    "Zwykle stosuje się tutaj podział na cztery jednakowe kwadratowe podobszary.\n",
    "Zilustrowano to na poniższym rysunku.\n",
    "\n",
    "![Przykład podziału obrazu na kwadratowe podobszary](https://raw.githubusercontent.com/vision-agh/poc_sw/master/12_Segmentation/image_split.png)\n",
    "\n",
    "Podział ten można również opisać w formie drzewa, gdzie każdy wierzchołek może mieć dokładnie 4 następniki.\n",
    "W takim ujęciu korzeń to cały obraz.\n",
    "Dla nowo powstałych podobszrów $R_1, R_2, R_3, R_4$ sprawdzany jest predykat $Q$.\n",
    "Jeśli nie jest on spełniony to następuje dalszy podział - w przykładzie na $R_{41}, R_{42}, R_{43}, R_{44}$.\n",
    "Procedurę kontynuujemy do momentu kiedy wszystkie podobszary będą spójne.\n",
    "Uwaga. Zwykle określa się minimalny rozmiar podobszaru (większy niż 1 piksel np. blok o rozmiarze $8 \\times8$).\n",
    "\n",
    "W wyniku powyższej procedury otrzymujemy podział obrazka, przy czym często się może zdarzyć, że leżące obok siebie podobszary będą spełniać predykat tj. $Q (R_i \\cup R_j) = TRUE$ dla sąsiadujących $R_i$ i $R_j$.\n",
    "Jest to sprzeczne z podpunktem *5* w warunkach segmentacji.\n",
    "Zjawisko to eliminowane jest w procedurze łączenia.\n",
    "Dla każdego z podobszarów sprawdza się jego sąsiadów i jeśli spełniony jest warunek $Q (R_i \\cup R_j) = TRUE$  to następuje ich połączenie.\n",
    "Procedura kontynuowana jest do momentu, kiedy niemożliwe jest dalsze łączenie.\n",
    "\n",
    "Dla metody możliwe są również uproszczenia.\n",
    "Przykładowo osłabia się warunek na łączenie z $Q (R_i \\cup R_j) = TRUE$ na $Q (R_i)= TRUE i Q(R_j) = TRUE$, czyli warunki muszą być spełnione dla każdego podobszaru osobno, ale już nie dla połączenia.\n",
    "\n",
    "\n",
    "Uwaga. Podobnie jak dla segmentacji przez rozrost, segmentacja przez podział i łączenie to też tylko pewna koncepcja (pewne ramy) algorytmu.\n",
    "Stworzenie konkretnego rozwiązania jest zadaniem dla osoby realizującej dany system wizyjny i wymaga analizy konkretnego problemu.\n",
    "\n",
    "Uwaga. Podany poniżej sposób implementacji nie jest ani jedynym z możliwych, ani optymalnym obliczeniowo.\n",
    "Ma on za zadanie tylko zilustrować koncepcję tej metody segmentacji.\n"
   ]
  },
  {
   "cell_type": "markdown",
   "metadata": {
    "pycharm": {
     "name": "#%% md\n"
    }
   },
   "source": [
    "## Realizacja ćwiczenia\n",
    "\n",
    "1. Wczytaj obraz *umbrella.png*.\n",
    "   Dokonaj konwersji z BGR do RGB.\n",
    "   Wyświetl go.\n",
    "   Załóżmy, że chcemy dokonać segmentacji poszczególnych fragmentów kolorowego parasola.\n",
    "   Nasz algorytm opierać się będzie na podejściu podziału i łączenia.\n",
    "   Jako kryterium podziału zastosujemy ''jednorodność'' danego obszaru, którą można opisać poprzez odchylenie standardowe.\n",
    "   Przy scalaniu będziemy brać pod uwagę średni ocień koloru tj. łączyć podobszary o zbliżonym odcieniu.\n",
    "\n",
    "2. W pierwszym etapie należy dokonać konwersji do przestrzeni barw HSV.\n",
    "   Następnie wybrać tylko składową H (tj. barwę).\n",
    "   Można ją kontrolnie wyświetlić.\n",
    "\n",
    "3. Procedurę podziału wygodnie jest zrealizować w formie rekurencji.\n",
    "   Utwórz funkcję np. `split`, która jako argumenty przyjmować będzie obraz oraz cztery współrzędne analizowanego podobszaru.\n",
    "   W pierwszym kroku należy wyciąć odpowiedni fragment oraz obliczyć dla niego średnią i odchylenie standardowe (`np.mean` oraz `np.std`).\n",
    "\n",
    "4. Następnie sprawdzamy czy odchylenie jest mniejsze niż zadany przez nas próg (np. 0.05) oraz czy nie osiągnęliśmy limitu podziału (np. bok kwadratu 8 pikseli).\n",
    "  Oba potrzebne progi możemy zrealizować za pomocą zmiennych globalnych dostępnych w Python (po prostu zadeklarowanych przed funkcją).\n",
    "  Potrzeby rozmiar kwadratu obliczamy na podstawie współrzędnych (przekazanych do funkcji jako argumenty)\n",
    "\n",
    "   Uwaga. Użycie zmiennych globalnych jest złą praktyką programistyczną i zachęcamy do ''opakowania'' obliczeń w klasę - nie jest to jednak obowiązkowe.\n",
    "\n",
    "5. Jeśli podobszar nie jest jednorodny (tj. duże odchylenie standardowe) i nie osiągnęliśmy minimalnego rozmiaru podobszaru to dokonujemy podziału na cztery części.\n",
    "      Wyznaczamy rozmiar aktualnego podobszaru (na podstawie jego współrzędnych).\n",
    "      Z ich wykorzystaniem otrzymujemy cztery identyczne podobszary ($I1,I2,I3,I4$).\n",
    "\n",
    "      Następnie dla każdego z nich wywołujemy funkcję `split` - rekurencja.\n",
    "      Najtrudniejsze jest odpowiednie podanie współrzędnych.\n",
    "      Mają to być **rzeczywiste** współrzędne podobszaru we współrzędnych globalnych (obrazu w pełnej rozdzielczości).\n",
    "      Podpowiedź. Trzeba ''odpowiednio'' wykorzystać współrzędne podobszaru przed podziałem (tj. argumenty funkcji) oraz rozmiar podobszaru.\n",
    "      Należy zwrócić uwagę na to, aby nie wystąpił błąd przesunięcia o 1 tj. współrzędna była większa/mniejsza o 1 od rzeczywistej.\n",
    "      W razie wątpliwości warto sobie te parametry wypisać na konsolę lub użyć debugera.\n",
    "\n",
    "6. Jeśli podobszar jest jednorodny lub nie możemy już dalej prowadzić podziału to:\n",
    "   - zapisujemy indeks danego podobszaru: ` seg_res[y1:y2, x1:x2] = index`, gdzie: `seg_res` to globalna macierz o rozmiarze takim jak obraz wejściowy (typ *int16*), `y1,y2,x1,x2` to współrzędne podobszaru. W macierzy `seg_res` zapisywane będą obszary jednorodne.\n",
    "  Zmienna `index` jest globalnym licznikiem podobszarów.\n",
    "  Powinna zostać zainicjowana wartością 1 przed pierwszym wywołaniem funkcji `split`.\n",
    "  Następnie, każdorazowo po przypisaniu należy ją inkrementować.\n",
    "  Uwaga. Aby możliwa była modyfikacja zmiennej globalnej, należy wewnątrz funkcji dodać np. linijkę: `global seg_res`\n",
    "\n",
    "  - zapisujemy średnią  podobszaru.\n",
    "    Wykorzystujemy macierz globalną `MRes` oraz kod podobny do opisanego powyżej.\n",
    "    Wartości te wykorzystamy przy etapie scalania.\n",
    "\n",
    "  Uwaga. Podany sposób zapisu wyników podziału jest dość nieefektywny.\n",
    "  Następuje powielenie tej samej informacji.\n",
    "  Lepszym pomysłem byłoby wykorzystanie podejścia opartego o grafy, jednak jest ono trudniejsze do ''szybkiej'' implementacji.\n",
    "\n",
    "7. Proszę wyświetlić macierze `seg_res` in `m_res`. Pierwsza powinna pokazywać podział na obszary - mniejsze lub większe kwadraty. Druga zasadniczo powinna wyglądać podobnie jak składowa H, tylko bardziej ''rozmazany''."
   ]
  },
  {
   "cell_type": "code",
   "execution_count": null,
   "metadata": {
    "collapsed": false,
    "jupyter": {
     "outputs_hidden": false
    },
    "pycharm": {
     "name": "#%%\n"
    }
   },
   "outputs": [],
   "source": [
    "import os\n",
    "import cv2\n",
    "import matplotlib.pyplot as plt\n",
    "import numpy as np\n",
    "\n",
    "if not os.path.exists(\"umbrella.png\") :\n",
    "    !wget https://raw.githubusercontent.com/vision-agh/poc_sw/master/12_Segmentation/umbrella.png --no-check-certificate\n",
    "\n",
    "original = cv2.imread('umbrella.png')\n",
    "umbrella = cv2.imread('umbrella.png')\n",
    "umbrella = cv2.cvtColor(umbrella, cv2.COLOR_BGR2RGB)\n",
    "umbrella = cv2.cvtColor(umbrella, cv2.COLOR_RGB2HSV)\n",
    "\n",
    "H = umbrella[:,:,0]\n",
    "\n",
    "plt.imshow(H)\n",
    "\n",
    "# global thresh\n",
    "# global limit\n",
    "\n",
    "# global seg_res\n",
    "# global index\n",
    "# global MRes\n",
    "\n",
    "seg_res = np.zeros(H.shape,dtype=np.int16)\n",
    "MRes = np.zeros(H.shape,dtype=np.int16)\n",
    "index = 1\n",
    "\n",
    "def split(img,y1,y2,x1,x2):\n",
    "    global seg_res\n",
    "    global index\n",
    "    global MRes\n",
    "    \n",
    "    thresh = 0.05\n",
    "    limit = 8\n",
    "    \n",
    "    window = img[y1:y2, x1:x2]\n",
    "\n",
    "    mean = np.mean(window)\n",
    "    std = np.std(window)\n",
    "    \n",
    "    if std > thresh and window.shape[0] > 8 and window.shape[1] > 8:\n",
    "        split(img,y1,(y1+y2)//2,x1,(x1+x2)//2)\n",
    "        split(img,y1,(y1+y2)//2,(x1+x2)//2,x2)\n",
    "        split(img,(y1+y2)//2,y2,x1,(x1+x2)//2)\n",
    "        split(img,(y1+y2)//2,y2,(x1+x2)//2,x2)\n",
    "    else:\n",
    "        seg_res[y1:y2, x1:x2] = index\n",
    "        index+=1\n",
    "        MRes[y1:y2, x1:x2] = mean\n",
    "        \n",
    "    return seg_res,MRes\n",
    "    \n",
    "    \n",
    "seg_res,MRes = split(H,0,H.shape[0],0,H.shape[1])\n",
    "    \n",
    "          \n",
    "\n",
    "f,a = plt.subplots(1,2, figsize = (15,15))\n",
    "a[0].imshow(seg_res)\n",
    "a[1].imshow(MRes)"
   ]
  },
  {
   "cell_type": "markdown",
   "metadata": {},
   "source": [
    "1. Drugi etap to łączenie.\n",
    "   Idea jest nieco zbliżona do segmentacji przez rozrost.\n",
    "   Wybieramy dany podobszar i analizujemy sąsiednie podobszary\n",
    "   Jeśli są one podobne to dołączamy je do aktualnie rozpatrywanego.\n",
    "   Za kryterium podobieństwa przyjmujemy niewielką różnicę w uśrednionym odcieniu barwy (składowa H).\n",
    "\n",
    "2. Procedurę realizujemy wewnątrz pętli `while`.\n",
    "   Warunkiem jej stopu jest przekroczenie przez licznik (np. `i`) wartości `index`, co oznacza, że przeanalizowane zostały wszystkie znalezione w pierwszym etapie podobszary.\n",
    "\n",
    "3. W pierwszym kroku ''wycinamy'' maskę pikseli o rozpatrywanym indeksie tj. `ib = seg_res == i`.\n",
    "   Dokonujemy też konwersji na typ *uint8*.\n",
    "   Następnie sprawdzamy, czy maska zawiera elementy niezerowe tj. czy nie jest ''pusta'' - `np.any`.\n",
    "   Taki przypadek może zajść jeśli pewien podobszar został dołączony do innego i zmienione zostały jego indeksy.\n",
    "   Dla ''pustej'' maski inkrementujemy licznik `i` i przechodzimy do następnej iteracji - `continue`.\n",
    "\n",
    "4. Dla rozpatrywanego podobszaru znajdujemy współrzędną lewego górnego rogu.\n",
    "   Można to zrobić z wykorzystaniem składni: `(y, x) = np.nonzero(ib)` oraz  `first = (y[0], x[0])` - znajdywanie współrzędnych pierwszego niezerowego elementu.\n",
    "\n",
    "5. Następnie należy znaleźć sąsiadów rozpatrywanego obszaru.\n",
    "   Można wykorzystać dylatację maski ``ib`` z elementem strukturalnym w postaci kwadratu o rozmiarze $3 \\times 3$ - `dil = cv2.dilate(ib, cv2.getStructuringElement(cv2.MORPH_RECT,(3,3)))`\n",
    "      Następnie od maski po dylatacji odejmujemy maskę oryginalną.\n",
    "      Otrzymujemy ''ramkę'', którą wykorzystujemy do ''wycięcia'' (mnożenie punktowe) fragmentu z macierzy `seg_res`.\n",
    "      Z tego fragmentu wybieramy elementy niezerowe (np. w ten sposób `mult_nz = mult[np.nonzero(mult)]`) i unikalne (tj. eliminacja duplikatów) - `mult_uniq = np.unique(mult_nz)`.\n",
    "\n",
    "6. Mając wektor z indeksami sąsiadów realizujemy pętlę w której dla każdego sąsiada:\n",
    "    - wycinamy opowiadającą mu maską i znajdujemy jej lewy górny róg - w sposób analogiczny do opisanego powyżej,\n",
    "\t- sprawdzamy, czy moduł z różnicy pomiędzy średnimi odcieniami barwy w dwóch analizowanych podobszarach jest mniejszy od progu (np. $5/255$). Jeśli tak to łączymy obszary tj. sąsiadowi przypisujemy indeks rozpatrywanego  `seg_res[ibs] = i`, gdzie `ibs` - maska podobszaru sąsiedniego.\n",
    "\tDo poprawnego działania konieczna jest jeszcze flaga informująca czy nastąpiło połączenie.\n",
    "\tJej wartość ustawiamy na 0 przed pętlą po sąsiednich podobszarach.\n",
    "\tJeśli wystąpiło połączenie to wartość ustawiamy na jeden.\n",
    "\n",
    "\tPo pętli po sąsiadach sprawdzamy flagę.\n",
    "\tJeśli ma ona wartość 0 tj. nie nastąpiło połączenie obszarów to licznik\t`i` jest inkrementowany.\n",
    "\n",
    "7. Uwaga. Obliczenia mogą chwilę trwać.\n",
    "   Proszę wyświetlić macierz `seg_res`.\n",
    "   Jeśli implementacja jest poprawna, to wynik segmentacji powinien być względnie dobry - wszystkie elementy parasolki wyodrębnione.\n"
   ]
  },
  {
   "cell_type": "code",
   "execution_count": null,
   "metadata": {
    "collapsed": false,
    "jupyter": {
     "outputs_hidden": false
    },
    "pycharm": {
     "name": "#%%\n"
    }
   },
   "outputs": [],
   "source": []
  },
  {
   "cell_type": "markdown",
   "metadata": {
    "pycharm": {
     "name": "#%% md\n"
    }
   },
   "source": [
    "8. Na koniec zastosujemy jeszcze dwie proste metody filtracji wyników.\n",
    "   Po pierwsze wyeliminujemy obszary o rozmiarze mniejszym niż zadany (np. 100 pikseli).\n",
    "   W tym celu wyznaczamy wektor unikalnych indeksów: `unique = np.unique(seg_res)`.\n",
    "   Następnie implementujemy pętlę `for` po tych indeksach.\n",
    "   Wewnątrz wycinamy maskę dla rozpatrywanego indeksu i obliczamy jej pole (`sum`).\n",
    "   Jeśli jest ono mniejsze niż próg to cały podobszar ''zerujemy'' - `seg_res[mask] = 0`, gdzie `mask` - maska podobszaru.\n",
    "\n",
    "9. W drugim kroku przeprowadzamy przeindeksowanie indeksów na pierwsze N liczb całkowitych.\n",
    "   Ponownie wyznaczamy unikalne indeksy.\n",
    "   Następnie w pętli `for` wycinamy maskę o indeksie `U(ii)`, a do wyniku przypisujemy iterator pętli `seg_res[mask] = ii`.\n",
    "\n",
    "10. Proszę poeksperymentować z różnymi parametrami.\n",
    "    Wyniki proszę zaprezentować prowadzącemu."
   ]
  },
  {
   "cell_type": "code",
   "execution_count": null,
   "metadata": {
    "collapsed": false,
    "jupyter": {
     "outputs_hidden": false
    },
    "pycharm": {
     "name": "#%%\n"
    }
   },
   "outputs": [],
   "source": [
    "i=1\n",
    "thresh = 10\n",
    "while(i <= index):\n",
    "        # maska\n",
    "        ib = (seg_res == i).astype('uint8')\n",
    "        if np.any(ib)==0:\n",
    "            i+=1\n",
    "            continue\n",
    "        \n",
    "        (y, x) = np.nonzero(ib)\n",
    "        first = (y[0], x[0])\n",
    "        dil = cv2.dilate(ib, cv2.getStructuringElement(cv2.MORPH_RECT,(3,3)))\n",
    "        \n",
    "        res = dil - ib\n",
    "        mult = seg_res*res\n",
    "        \n",
    "        mult_nz = mult[np.nonzero(mult)]\n",
    "        mult_uniq = np.unique(mult_nz)\n",
    "        \n",
    "        flag = 0\n",
    "        \n",
    "        for neigh in mult_uniq:\n",
    "            ib2 = (seg_res == neigh).astype('uint8')\n",
    "            if np.any(ib2):\n",
    "                (y2,x2) = np.nonzero(ib2)\n",
    "                first2 = (y2[0], x2[0])\n",
    "                diff = np.abs(MRes[first2] - MRes[first])\n",
    "                \n",
    "                if diff < thresh:\n",
    "                    # to znalazlam na necie i nie wiem czemu tak ale dziala bo z samej instrukcji nie wiedzialam jak\n",
    "                    for yi in range(y2[0],seg_res.shape[0]):\n",
    "                        for xi in range(x2[0], seg_res.shape[1]):\n",
    "                            if ib2[yi,xi] == 1:\n",
    "                                seg_res[yi,i] = i\n",
    "                            else: break\n",
    "                    flag = 1\n",
    "        if flag==0:\n",
    "            i+=1\n",
    "               \n",
    "#     return seg_res\n",
    "\n",
    "plt.imshow(seg_res)"
   ]
  },
  {
   "cell_type": "code",
   "execution_count": null,
   "metadata": {},
   "outputs": [],
   "source": [
    "thresh = 100\n",
    "unique = np.unique(seg_res)\n",
    "\n",
    "for i in unique:\n",
    "    mask = (seg_res == i).astype('uint8')\n",
    "    suma = np.sum(mask)\n",
    "    (y, x) = np.nonzero(mask)\n",
    "    \n",
    "    if suma < thresh:\n",
    "        for yi in range(y[0],seg_res.shape[0]):\n",
    "            for xi in range(x[0],seg_res.shape[1]):\n",
    "                if mask[yi,xi]:\n",
    "                    seg_res[yi,xi] = 0\n",
    "    \n",
    "plt.imshow(seg_res)"
   ]
  },
  {
   "cell_type": "code",
   "execution_count": null,
   "metadata": {},
   "outputs": [],
   "source": []
  }
 ],
 "metadata": {
  "kernelspec": {
   "display_name": "Python 3",
   "language": "python",
   "name": "python3"
  },
  "language_info": {
   "codemirror_mode": {
    "name": "ipython",
    "version": 3
   },
   "file_extension": ".py",
   "mimetype": "text/x-python",
   "name": "python",
   "nbconvert_exporter": "python",
   "pygments_lexer": "ipython3",
   "version": "3.8.6"
  }
 },
 "nbformat": 4,
 "nbformat_minor": 4
}
