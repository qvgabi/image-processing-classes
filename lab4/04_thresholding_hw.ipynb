{
 "cells": [
  {
   "cell_type": "markdown",
   "metadata": {},
   "source": [
    "# Binaryzacja\n",
    "\n",
    "### Zadanie domowe - binaryzacja adaptacyjna w oknach z interpolacją.\n",
    "\n",
    "Pokazana w ramach podstawowej części ćwiczenia binaryzacja adaptacyjna działa dobrze, ale jest dość złożona obliczeniowo (choć oczywiście należy mieć świadomość, że implementację można zoptymalizować i wyeliminować pewne powtarzające się obliczenia).\n",
    "Zbliżone rozwiązanie można również realizować w nieco innym wariancie - w oknach.\n",
    "Ogólna idea jest następująca: wejściowy obraz dzielimy na nienachodzące (rozłączne) okna - wygodnie jest założyć, że są one kwadratowe i o rozmiarze będącym potęgą liczby 2.\n",
    "W każdym z okien obliczamy próg - niech to będzie średnia i stosujemy do binaryzacji lokalnej.\n",
    "Jak nietrudno się domyślić efekt nie będzie dobry, gdyż na granicach okien wystąpią artefakty.\n",
    "Aby je wyeliminować należy zastosować interpolację, co zostanie szczegółowo opisane poniżej.\n",
    "Warto zaznaczyć, że podobny mechanizm interpolacji stosowany jest w poznanym wcześniej algorytmie CLAHE.\n",
    "Zainteresowane osoby odsyłam do artykułu na [Wikipedii](https://en.wikipedia.org/wiki/Adaptive_histogram_equalization) oraz do artykułu o metodzie CLAHE - Zuiderveld, Karel. “Contrast Limited Adaptive Histograph Equalization.” Graphic Gems IV. San Diego: Academic Press Professional, 1994. 474–485.\n",
    "\n"
   ]
  },
  {
   "cell_type": "markdown",
   "metadata": {},
   "source": [
    "Na początek zaimplementujemy wariant metody bez interpolacji:\n",
    "1. Wczytaj obraz _rice.png_.\n",
    "2. W dwóch pętlach `for`, dla okien o ustalonym wymiarze $W$ (potęga 2), oblicz średnią:\n",
    "- pętle powinny mieć krok $W$,\n",
    "- wynik (tj. średnie) należy zapisać w pomocniczej tablicy,\n",
    "- przydatny operator to `//` - dzielenie całkowitoliczbowe (*floor division*).\n",
    "\n",
    "3. W kolejnych dwóch pętlach `for` (tym razem o kroku 1) przeprowadź binaryzację z wyznaczonymi progami.\n",
    "   Tu oczywiście należy się sprytnie odwołać do wyników z tablicy pomocniczej.\n",
    "   Wyświetl wyniki - czy jest on poprawny?\n",
    "   Podpowiedź - błędy lepiej widać dla mniejszego rozmiaru okna (np. 16 x 16)."
   ]
  },
  {
   "cell_type": "code",
   "execution_count": 4,
   "metadata": {
    "collapsed": false,
    "jupyter": {
     "outputs_hidden": false
    },
    "pycharm": {
     "name": "#%%\n"
    }
   },
   "outputs": [
    {
     "data": {
      "text/plain": [
       "<matplotlib.image.AxesImage at 0x7fcfae046a90>"
      ]
     },
     "execution_count": 4,
     "metadata": {},
     "output_type": "execute_result"
    },
    {
     "data": {
      "image/png": "[encoded data removed]",
      "text/plain": [
       "<Figure size 432x288 with 1 Axes>"
      ]
     },
     "metadata": {
      "needs_background": "light"
     },
     "output_type": "display_data"
    }
   ],
   "source": [
    "import matplotlib.pyplot as plt\n",
    "import cv2\n",
    "import numpy as np\n",
    "import os\n",
    "\n",
    "rice = cv2.imread('rice.png',cv2.IMREAD_GRAYSCALE)\n",
    "\n",
    "def binarization(img, W):\n",
    "    X,Y = img.shape\n",
    "    mean = np.zeros((X,Y))\n",
    "    new_img = np.zeros(img.shape)\n",
    "\n",
    "    for j in range(W//2, Y-W//2-1):\n",
    "        for i in range(W//2, X-W//2-1):\n",
    "            neigh = rice[j-(W//2):j+W//2+1,i-W//2:i+(W//2)+1]\n",
    "            mean[j,i] = cv2.mean(neigh)[0]\n",
    "        \n",
    "    for i in range(X):\n",
    "        for j in range(Y):\n",
    "            new_img[i,j] = img[i,j] > mean[i//W,j//W]\n",
    "    return new_img\n",
    "\n",
    "rice_bin = binarization(rice,16)\n",
    "plt.imshow(rice_bin,'gray')\n"
   ]
  },
  {
   "cell_type": "markdown",
   "metadata": {},
   "source": [
    "4. Rozwiązaniem problemu artefaktów na obrazie jest zastosowanie interpolacji.\n",
    "   Próg binaryzacji dla danego okna wyliczany jest na podstawie progów z sąsiednich okien.\n",
    "   ![Ilustracja koncepcji interpolacji](https://raw.githubusercontent.com/vision-agh/poc_sw/master/04_Thresholding/clahe_tile_interpolation.png)\n",
    "\n",
    "   Koncepcja została przedstawiona na powyższym rysunku.\n",
    "   Możliwe są 3 przypadki:\n",
    "   - piksel leży w rogach obrazu (kolor czerwony) - wtedy za próg przyjmuje się wartość średniej obliczonej dla danego okna,\n",
    "   - piksel leży na krawędzi obrazu (kolor zielony) - wtedy za próg przyjmuje się wartość obliczoną na podstawie średnich z dwóch sąsiednich okien,\n",
    "   - piksel leży w środku (kolor fioletowy) - wtedy próg jest obliczany na podstawie 4 sąsiednich okien.\n",
    "\n",
    "   Uwaga. Proszę zwrócić uwagę, że sprawa jest dość złożona.\n",
    "   Obraz dzielimy na okna (dla nich liczymy średnią) i następnie każde z okien \"wirtualnie\" na cztery sub-okna (linie przerywane).\n",
    "   To ułatwia znalezienie środków okien (czarne kwadraty), które są wykorzystywane w interpolacji.\n",
    "\n",
    "5. Implementujemy interpolację.\n",
    "   Potrzebujemy do tego znać progi (jeden, dwa lub cztery), ale dla przejrzystości obliczeń lepiej zawsze przyjąć cztery oraz odległości od rozważnego piksela do środka sąsiednich okien (też w ogólnym przypadku 4):\n",
    "   - całość sprowadza się do określania pozycji piksela,\n",
    "   - na początek rozważmy przypadek czterech narożników (kolor czerwony na rysunku) - trzeba napisać `if`, który je wyznaczy,\n",
    "   - warto sprawdzić, czy nie popełniliśmy błędu i np. tymczasowo do obrazu wynikowego w tym miejscu przypisać wartość 255. Efekt powinien być taki, że widoczne będą tylko narożniki.\n",
    "   - drugi przypadek do brzegi (kolor zielony) - postępujemy podobnie jak przy narożnikach, przy czym osobno wydzielamy brzegi pionowe i poziome. Tu też warto sobie obrazek \"pokolorować\".\n",
    "   - na koniec wyznaczamy piksele w środku.\n",
    "   - analizując poprawność proszę zwrócić uwagę na to, żeby nie było przerw pomiędzy obszarami.\n",
    "   - mając podział możemy dla każdego z obszarów wyliczyć cztery progi ($t11, t12, t21, t22$):\n",
    "        - dla narożników wartość ta będzie identyczna i wynosi po prostu `t11 =t[jT][iT]`, gdzie `iT=i//W` oraz `jT=j//W`.\n",
    "          Uwaga. Proszę używać indeksów tymczasowych $jT,iT$, gdyż będą potrzebne w dalszych obliczeniach.\n",
    "        - dla brzegów pionowych występują dwie wartości: okno bieżące i sąsiednie.\n",
    "          Wyznaczenie współrzędnej poziomej jest proste (jak dla narożników).\n",
    "          Nad współrzędną pionową trzeba się chwilę zastanowić - aby nie rozważać wielu przypadków można od bieżącej współrzędnej odjąć połowę rozmiaru okna i dopiero później wykonać dzielenie przez rozmiar okna.\n",
    "          W ten sposób otrzymujemy indeks okna o mniejszej współrzędnej.\n",
    "          Indeks drugiego uzyskamy dodając 1.\n",
    "          Proszę się zastanowić dlaczego to działa - najlepiej to sobie rozrysować.\n",
    "        - dla brzegów poziomych należy postąpić analogicznie,\n",
    "        - obliczenia dla obszaru wewnątrz powinny być już oczywiste.\n",
    "   - kolejny krok to wyliczenie odległości pomiędzy rozważanym pikselem, a czterema środkami.\n",
    "     Przykładowo dla osi X wygląda to następująco: `dX1 = i - W/2 - iT*W` oraz `dX2 = (iT+1)*W - i-W/2`.\n",
    "     Dla osi Y analogicznie.\n",
    "     Ponownie proszę się zastanowić dlaczego to jest poprawne - najlepiej to sobie narysować.\n",
    "   - ostatni krok to interpolacja dwuliniowa.\n",
    "     Wykonamy ją w trzech krokach:\n",
    "     - interpolacja w osi X dla dwóch górnych okien - sprowadza się ona do średniej ważonej pomiędzy wartościami $t11$ i $t12$, przy czym wagi to odpowiednio $dX2/W$ i $dX1/W$.\n",
    "       Ponownie na podstawie rysunku proszę to przemyśleć.\n",
    "     - interpolacja w osi X dla dolnych okien jest analogiczna,\n",
    "     - interpolacja w osi Y również jest analogiczna, z tym, że wejściem są dwa wyniki interpolacji w poziomie.\n",
    "\n",
    "6. \"Kropka nad i\" to oczywiście binaryzacja z wyznaczonym poprzez interpolację progiem - proszę dobrać rozmiar okna.\n",
    "7. Na koniec proszę porównać na wspólnym rysunku poznane metody binaryzacji:\n",
    "- Otsu,\n",
    "- lokalna na podstawie średniej,\n",
    "- lokalna Sauvoli,\n",
    "- lokalna w oknach bez interpolacji,\n",
    "- lokalna w oknach z interpolacją.\n",
    "\n",
    "Proszę pod porównaniem, w osobnej sekcji *markdown*, krótko skomentować uzyskane wyniki."
   ]
  },
  {
   "cell_type": "code",
   "execution_count": null,
   "metadata": {
    "collapsed": false,
    "jupyter": {
     "outputs_hidden": false
    },
    "pycharm": {
     "name": "#%%\n"
    }
   },
   "outputs": [],
   "source": []
  }
 ],
 "metadata": {
  "celltoolbar": "Raw Cell Format",
  "kernelspec": {
   "display_name": "Python 3",
   "language": "python",
   "name": "python3"
  },
  "language_info": {
   "codemirror_mode": {
    "name": "ipython",
    "version": 3
   },
   "file_extension": ".py",
   "mimetype": "text/x-python",
   "name": "python",
   "nbconvert_exporter": "python",
   "pygments_lexer": "ipython3",
   "version": "3.8.6"
  }
 },
 "nbformat": 4,
 "nbformat_minor": 4
}
