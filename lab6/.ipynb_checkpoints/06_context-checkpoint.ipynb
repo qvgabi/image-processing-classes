{
 "cells": [
  {
   "cell_type": "markdown",
   "metadata": {},
   "source": [
    "# Przetwarzanie wstępne. Filtracja kontekstowa.\n",
    "\n",
    "\n",
    "### Cel:\n",
    "- zapoznanie z pojęciem kontekstu / filtracji kontekstowej,\n",
    "- zapoznanie z pojęciem konwolucji (splotu),\n",
    "- zapoznanie z wybranymi filtrami:\n",
    "\t- filtry liniowe dolnoprzepustowe:\n",
    "\t\t- filtr uśredniający,\n",
    "\t\t- filtr Gaussa.\n",
    "\t- filtry nielinowe:\n",
    "\t\t- mediana,\n",
    "\t\t- mediana dla obrazów kolorowych.\n",
    "\t- filtry liniowe górnoprzepustowe:\n",
    "\t\t\t- laplasjan,\n",
    "\t\t\t- operator Robersta, Prewitta, Sobela.\n",
    "- zadanie domowe: adaptacyjna filtracja medianowa.\n",
    "\n",
    "### Filtry liniowe uśredniające (dolnoprzepustowe)\n",
    "\n",
    "Jest to podstawowa rodzina filtrów stosowana w cyfrowym przetwarzaniu obrazów. \n",
    "Wykorzystuje się je w celu \"rozmazania\" obrazu i tym samym redukcji szumów (zakłóceń) na obrazie.\n",
    "Filtr określony jest przez dwa parametry: rozmiar maski (ang. _kernel_) oraz wartości współczynników maski.\n",
    "\n",
    "Warto zwrócić uwagę, że omawiane w niniejszym rozdziale operacje generują nową wartość piksela na podstawie pewnego fragmentu obrazu (tj. kontekstu), a nie jak operacje punktowe tylko na podstawie jednego piksela.\n",
    "\n",
    "\n",
    "1. Wczytaj obraz _plansza.png_.\n",
    "W dalszej części ćwiczenia sprawdzenie działania filtracji dla innych obrazów sprowadzi się do wczytania innego pliku.\n",
    "\n",
    "2. Podstawowa funkcja to `cv2.filter2D`  - realizacja filtracji konwolucyjnej.\n",
    "   Proszę sprawdzić jej dokumentację i zwrócić uwagę na obsługę problemu brzegowego (na krawędziach istnieją piksele dla których nie da się wyznaczyć otoczenia).\n",
    "\n",
    "  Uwaga. Problem ten można też rozwiązać z użyciem funkcji `signal.convolve2d` z biblioteki _scipy_ (`from scipy import signal`).\n",
    "\n",
    "3. Stwórz podstawowy filtr uśredniający o rozmiarze $3 \\times 3$ -- za pomocą funkcji `np.ones`. Wykonaj konwolucję na wczytanym obrazie. Na wspólnym rysunku wyświetl obraz oryginalny, po filtracji oraz moduł z różnicy.\n",
    "\n",
    "4. Przeanalizuj otrzymane wyniki. Jakie elementy zawiera obraz \"moduł z różnicy\"? Co na tej podstawie można powiedzieć o filtracji dolnoprzepustowej?"
   ]
  },
  {
   "cell_type": "code",
   "execution_count": null,
   "metadata": {},
   "outputs": [],
   "source": [
    "import matplotlib.pyplot as plt\n",
    "import cv2\n",
    "import os\n",
    "import numpy as np\n",
    "from scipy import signal\n",
    "\n",
    "\n",
    "# Obrazki\n",
    "if not os.path.exists(\"jet.png\") :\n",
    "    !wget https://raw.githubusercontent.com/vision-agh/poc_sw/master/06_Context/jet.png --no-check-certificate\n",
    "if not os.path.exists(\"kw.png\") :\n",
    "    !wget https://raw.githubusercontent.com/vision-agh/poc_sw/master/06_Context/kw.png --no-check-certificate\n",
    "if not os.path.exists(\"moon.png\") :\n",
    "    !wget https://raw.githubusercontent.com/vision-agh/poc_sw/master/06_Context/moon.png --no-check-certificate\n",
    "if not os.path.exists(\"lenaSzum.png\") :\n",
    "    !wget https://raw.githubusercontent.com/vision-agh/poc_sw/master/06_Context/lenaSzum.png --no-check-certificate\n",
    "if not os.path.exists(\"lena.png\") :\n",
    "    !wget https://raw.githubusercontent.com/vision-agh/poc_sw/master/06_Context/lena.png --no-check-certificate\n",
    "if not os.path.exists(\"plansza.png\") :\n",
    "    !wget https://raw.githubusercontent.com/vision-agh/poc_sw/master/06_Context/plansza.png --no-check-certificate\n",
    "\n",
    "\n",
    "plansza = cv2.imread('plansza.png')\n",
    "plt.imshow(plansza)\n"
   ]
  },
  {
   "cell_type": "code",
   "execution_count": null,
   "metadata": {},
   "outputs": [],
   "source": [
    "kernel = np.ones((3, 3)) / 9\n",
    "dst = cv2.filter2D(plansza, -1, kernel)\n",
    "\n",
    "f,a = plt.subplots(1,3)\n",
    "f.set_size_inches(20,10)\n",
    "a[0].imshow(plansza)\n",
    "a[1].imshow(dst)\n",
    "a[2].imshow(abs(dst - plansza))"
   ]
  },
  {
   "cell_type": "markdown",
   "metadata": {},
   "source": [
    "5. Na wspólnym rysunku wyświetl wyniki filtracji uśredniającej z oknem o rozmiarze 3, 5, 9, 15 i 35. \n",
    "Wykorzystaj polecenie `plt.subplot`. \n",
    "Przeanalizuj wpływ rozmiaru maski na wynik. "
   ]
  },
  {
   "cell_type": "code",
   "execution_count": null,
   "metadata": {},
   "outputs": [],
   "source": [
    "arr = [3,5,9,15,35]\n",
    "\n",
    "for i in arr:\n",
    "    kernel = np.ones((i, i)) / i*i\n",
    "    dst = cv2.filter2D(plansza, -1, kernel)\n",
    "\n",
    "    f,a = plt.subplots(1,3)\n",
    "    f.set_size_inches(20,10)\n",
    "    a[0].imshow(plansza)\n",
    "    a[1].imshow(dst)\n",
    "    a[2].imshow(abs(dst - plansza))\n",
    "    "
   ]
  },
  {
   "cell_type": "markdown",
   "metadata": {},
   "source": [
    "6. Wczytaj obraz _lena.png_.\n",
    "Zaobserwuj efekty filtracji dolnoprzepustowej dla obrazu rzeczywistego."
   ]
  },
  {
   "cell_type": "code",
   "execution_count": null,
   "metadata": {},
   "outputs": [],
   "source": [
    "lena = cv2.imread('lena.png')\n",
    "\n",
    "# filtracja dolnoprzepustowa dla lena\n",
    "\n",
    "kernel = np.ones((5, 5)) / 25\n",
    "dst = cv2.filter2D(lena, -1, kernel)\n",
    "\n",
    "\n",
    "f,a = plt.subplots(1,3)\n",
    "f.set_size_inches(20,10)\n",
    "a[0].imshow(lena)\n",
    "a[1].imshow(dst)\n",
    "a[2].imshow(abs(dst - lena))"
   ]
  },
  {
   "cell_type": "markdown",
   "metadata": {},
   "source": [
    "7. Niekorzystny efekt towarzyszący wykonanym filtracjom dolnoprzepustowym to utrata ostrości. \n",
    "Częściowo można go zniwelować poprzez odpowiedni dobór maski. \n",
    "Wykorzystaj maskę:  `M = np.array([1 2 1; 2 4 2; 1 2 1])`. \n",
    "Przed obliczeniami należy jeszcze wykonać normalizację - podzielić każdy element maski przez sumę wszystkich elementów: `M = M/sum(sum(M));`.\n",
    "Tak przygotowaną maskę wykorzystaj w konwolucji - wyświetl wyniki tak jak wcześniej.\n",
    "Możliwe jest też wykorzystywanie innych masek - współczynniki można dopasowywać do konkretnego problemu."
   ]
  },
  {
   "cell_type": "code",
   "execution_count": null,
   "metadata": {},
   "outputs": [],
   "source": [
    "M = np.array([[1, 2, 1], [2, 4, 2], [1, 2, 1]])\n",
    "\n",
    "M = M/sum(sum(M))\n",
    "\n",
    "dst = cv2.filter2D(lena, -1, M)\n",
    "\n",
    "f,a = plt.subplots(1,3)\n",
    "f.set_size_inches(20,10)\n",
    "a[0].imshow(lena)\n",
    "a[1].imshow(dst)\n",
    "a[2].imshow(abs(dst - lena))"
   ]
  },
  {
   "cell_type": "markdown",
   "metadata": {},
   "source": [
    "8. Skuteczną i często wykorzystywaną maską jest tzw. maska Gasussa.\n",
    "Jest to zbiór liczb, które aproksymują dwuwymiarowy rozkład Gaussa. \n",
    "Parametrem jest odchylenie standardowe i rozmiar maski.\n",
    "\n",
    "9. Wykorzystując przygotowaną funkcję `fgaussian` stwórz maskę o rozmiarze $5 \\times 5$ i odchyleniu standardowym 0.5.\n",
    "  Wykorzystując funkcję `mesh` zwizualizuj filtr.\n",
    "  Sprawdź jak parametr ``odchylenie standardowe'' wpływa na ``kształt'' filtru.\n",
    "\n",
    "  Uwaga. W OpenCV dostępna jest *dedykowana* funkcja do filtracji Gaussa - `GaussianBlur`.\n",
    "  Proszę na jednym przykładzie porównać jej działanie z użytym wyżej rozwiązaniem.\n",
    "\n",
    "10. Wykonaj filtrację dla wybranych (2--3) wartości odchylenia standardowego.\n"
   ]
  },
  {
   "cell_type": "code",
   "execution_count": null,
   "metadata": {
    "scrolled": true
   },
   "outputs": [],
   "source": [
    "def fgaussian(size, sigma):\n",
    "     m = n = size\n",
    "     h, k = m//2, n//2\n",
    "     x, y = np.mgrid[-h:h+1, -k:k+1]\n",
    "     g = np.exp(-(x**2 + y**2)/(2*sigma**2))\n",
    "     return g /g.sum() \n",
    "    \n",
    "    \n",
    "def mesh(fun, size):\n",
    "    fig = plt.figure()\n",
    "    ax = fig.gca(projection='3d')\n",
    "    \n",
    "\n",
    "    X = np.arange(-size//2, size//2, 1)\n",
    "    Y = np.arange(-size//2, size//2, 1)\n",
    "    X, Y = np.meshgrid(X, Y)\n",
    "    Z = fun\n",
    "    \n",
    "    ax.plot_surface(X, Y, Z)\n",
    "    \n",
    "    plt.show()\n",
    "    \n",
    "mask = fgaussian(5,1)\n",
    "mesh(mask,5)\n"
   ]
  },
  {
   "cell_type": "code",
   "execution_count": null,
   "metadata": {},
   "outputs": [],
   "source": [
    "dst = cv2.filter2D(lena, -1, mask)\n",
    "\n",
    "#z uzyciem fgaussian\n",
    "\n",
    "f,a = plt.subplots(1,3)\n",
    "f.set_size_inches(20,10)\n",
    "a[0].imshow(lena)\n",
    "a[1].imshow(dst)\n",
    "a[2].imshow(abs(dst - lena))\n",
    "\n",
    "# z uzyciem GaussianBlur\n",
    "\n",
    "blur = cv2.GaussianBlur(lena,(5,5),0)\n",
    "f,a = plt.subplots(1,3)\n",
    "f.set_size_inches(20,10)\n",
    "a[0].imshow(lena)\n",
    "a[1].imshow(blur)\n",
    "a[2].imshow(abs(blur - lena))"
   ]
  },
  {
   "cell_type": "markdown",
   "metadata": {},
   "source": [
    "### Filtry nieliniowe -- mediana\n",
    "\n",
    "Filtry rozmywające redukują szum, ale niekorzystnie wpływają na ostrość obrazu.\n",
    "Dlatego często wykorzystuje się filtry nieliniowe - np. filtr medianowy (dla przypomnienia: mediana - środkowa wartość w posortowanym ciągu liczb).\n",
    "\n",
    "Podstawowa różnica pomiędzy filtrami liniowymi, a nieliniowymi polega na tym, że przy filtracji liniowej na nową wartość piksela ma wpływ wartość wszystkich pikseli z otoczenia (np. uśrednianie, czasem ważone), natomiast w przypadku filtracji nieliniowej jako nowy piksel wybierana jest któraś z wartości otoczenia - według jakiegoś wskaźnika (wartość największa, najmniejsza czy właśnie mediana).\n",
    "\n",
    "\n",
    "1. Wczytaj obraz _lenaSzum.png_ (losowe 10% pikseli białych lub czarnych - tzw. zakłócenia impulsowe). Przeprowadź filtrację uśredniającą z rozmiarem maski 3x3. Wyświetl, podobnie jak wcześniej, oryginał, wynik filtracji i moduł z różnicy. Wykorzystując funkcję ``cv2.medianBlur` wykonaj filtrację medianową _lenaSzum.png_ (z rozmiarem maski $3 \\times 3$). Wyświetl, podobnie jak wcześniej, oryginał, wynik filtracji i moduł z różnicy. Która filtracja lepiej radzi sobie z tego typu szumem?\n",
    "\n",
    "  Uwaga. Taki sam efekt da również użycie funkcji `signal.medfilt2d`.\n"
   ]
  },
  {
   "cell_type": "code",
   "execution_count": null,
   "metadata": {},
   "outputs": [],
   "source": [
    "lenaSzum = cv2.imread('lenaSzum.png')\n",
    "\n",
    "kernel = np.ones((3, 3))/9\n",
    "dst = cv2.filter2D(lenaSzum, -1, kernel)\n",
    "\n",
    "# filtracja uśredniająca dla lenaSzum\n",
    "\n",
    "f,a = plt.subplots(1,3)\n",
    "f.set_size_inches(20,10)\n",
    "a[0].imshow(lenaSzum)\n",
    "a[1].imshow(dst)\n",
    "a[2].imshow(abs(dst - lenaSzum))\n",
    "\n",
    "#medianBlur -> lepiej radzi sobie z szumem\n",
    "\n",
    "blur = cv2.medianBlur(lenaSzum,3)\n",
    "f,a = plt.subplots(1,3)\n",
    "f.set_size_inches(20,10)\n",
    "a[0].imshow(lenaSzum)\n",
    "a[1].imshow(blur)\n",
    "a[2].imshow(abs(blur - lenaSzum))\n",
    "\n",
    "# z uzyciem signal.medfilt2d\n",
    "\n",
    "mask = signal.medfilt2d(kernel,3) # cos tu jest nie tak\n",
    "\n",
    "dst = cv2.filter2D(lenaSzum, -1, mask)\n",
    "\n",
    "f,a = plt.subplots(1,3)\n",
    "f.set_size_inches(20,10)\n",
    "a[0].imshow(lenaSzum)\n",
    "a[1].imshow(dst)\n",
    "a[2].imshow(abs(dst - lenaSzum))"
   ]
  },
  {
   "cell_type": "markdown",
   "metadata": {},
   "source": [
    "2. Przeprowadź filtrację uśredniającą, a następnie medianową obrazu _lena.png_.\n",
    "   Wyniki porównaj - dla obu wyświetl: oryginał, wynik filtracji i moduł z różnicy.\n",
    "   Szczególną uwagę zwróć na ostrość i krawędzie.\n",
    "   W której filtracji krawędzie zostają lepiej zachowane?"
   ]
  },
  {
   "cell_type": "code",
   "execution_count": null,
   "metadata": {},
   "outputs": [],
   "source": [
    "kernel = np.ones((3, 3))/9\n",
    "dst = cv2.filter2D(lena, -1, kernel)\n",
    "\n",
    "# filtracja uśredniająca dla lena\n",
    "\n",
    "f,a = plt.subplots(1,3)\n",
    "f.set_size_inches(20,10)\n",
    "a[0].imshow(lena)\n",
    "a[1].imshow(dst)\n",
    "a[2].imshow(abs(dst - lena))\n",
    "\n",
    "#medianBlur -> ostrzejszy\n",
    "\n",
    "blur = cv2.medianBlur(lena,3)\n",
    "f,a = plt.subplots(1,3)\n",
    "f.set_size_inches(20,10)\n",
    "a[0].imshow(lena)\n",
    "a[1].imshow(blur)\n",
    "a[2].imshow(abs(blur - lena))"
   ]
  },
  {
   "cell_type": "markdown",
   "metadata": {},
   "source": [
    "3. Ciekawy efekt można uzyskać wykonując filtrację medianową wielokrotnie. Określa się go mianem  posteryzacji.  W wyniku przetwarzania z obrazka usunięte zostają detale, a duże obszary uzyskują tą samą wartość jasności.  Wykonaj operację mediany $5 \\times 5$ na obrazie _lena.png_ 10-krotnie. (wykorzystaj np. pętlę `for`).\n",
    "\n",
    "\n",
    "Inne filtry nieliniowe:\n",
    "- filtr modowy - moda (dominanta) zamiast mediany,\n",
    "- filtr olimpijski - średnia z podzbioru otoczenia (bez wartości ekstremalnych),\n",
    "- hybrydowy filtr medianowy - mediana obliczana osobno w różnych podzbiorach otoczenia (np. kształt ``x'',``+''), a jako wynik brana jest mediana ze zbioru wartość elementu centralnego, mediana z ``x'' i mediana z ``+'',\n",
    "- filtr minimalny i maksymalny (będą omówione przy okazji operacji morfologicznych w dalszej części kursu).\n",
    "\n",
    "\n",
    "Warto zdawać sobie sprawę, z szerokich możliwości dopasowywania rodzaju filtracji do konkretnego rozważanego problemu i rodzaju zaszumienia występującego na obrazie."
   ]
  },
  {
   "cell_type": "code",
   "execution_count": null,
   "metadata": {},
   "outputs": [],
   "source": [
    "# posteryzacja - wielokrotna filtracja medianowa\n",
    "\n",
    "lena = cv2.imread('lena.png')\n",
    "\n",
    "for i in range(10):\n",
    "    blur = cv2.medianBlur(lena,5)\n",
    "    f,a = plt.subplots(1,3)\n",
    "    f.set_size_inches(20,10)\n",
    "    a[0].imshow(lena)\n",
    "    a[1].imshow(blur)\n",
    "    a[2].imshow(abs(blur - lena))\n",
    "    lena = blur"
   ]
  },
  {
   "cell_type": "markdown",
   "metadata": {},
   "source": [
    "## Filtry liniowe górnoprzepustowe (wyostrzające, wykrywające krawędzie)\n",
    "\n",
    "Zadaniem filtrów górnoprzepustowych jest wydobywanie z obrazu składników odpowiedzialnych za szybkie zmiany jasności - konturów, krawędzi, drobnych elementów tekstury.\n",
    "\n",
    "### Laplasjan (wykorzystanie drugiej pochodnej obrazu)\n",
    "\n",
    "1. Wczytaj obraz _moon.png_.\n",
    "\n",
    "2. Wprowadź podstawową maskę laplasjanu:\n",
    "\\begin{equation}\n",
    "M = \n",
    "\\begin{bmatrix}\n",
    "0 & 1& 0 \\\\ 1 & -4 & 1 \\\\ 0 & 1 & 0\n",
    "\\end{bmatrix}\n",
    "\\end{equation}\n",
    "\n",
    "3. Przed rozpoczęciem obliczeń należy dokonać normalizacji maski - dla rozmiaru $3 \\times 3$ podzielić każdy element przez 9.\n",
    "   Proszę zwrócić uwagę, że nie można tu zastosować takiej samej normalizacji, jak dla filtrów dolnoprzepustowanych, gdyż skutkowałby to dzieleniem przez 0.\n",
    "\n",
    "4. Wykonaj konwolucję obrazu z maską (`c2.filter2D`). Przed wyświetleniem, wynikowy obraz należy poddać normalizacji (występują ujemne wartości). Najczęściej wykonuje się jedną z dwóch operacji:\n",
    "- skalowanie (np. poprzez dodatnie 128 do każdego z pikseli),\n",
    "- moduł (wartość bezwzględna).\n",
    "\n",
    "Wykonaj obie normalizacje. \n",
    "Na wspólnym wykresie wyświetl obraz oryginalny oraz przefiltrowany po obu normalizacjach. "
   ]
  },
  {
   "cell_type": "code",
   "execution_count": null,
   "metadata": {},
   "outputs": [],
   "source": [
    "moon = cv2.imread('moon.png')\n",
    "# moon = cv2.cvtColor(moon, cv2.COLOR_BGR2GRAY)\n",
    "\n",
    "M = np.array([[0, 1, 0], [1, -4, 1], [0, 1, 0]])\n",
    "\n",
    "dst = cv2.filter2D(moon, -1, M)\n",
    "\n",
    "# dst1 = abs(dst)\n",
    "# dst2 = (dst + 128)//dst.max()\n",
    "\n",
    "f,a = plt.subplots(2,3)\n",
    "f.set_size_inches(20,10)\n",
    "a[0,0].imshow(moon)\n",
    "a[0,1].imshow(abs(dst))\n",
    "a[0,2].imshow(moon + abs(dst))\n",
    "a[1,0].imshow(moon)\n",
    "a[1,1].imshow(dst + 128)\n",
    "a[1,2].imshow(moon + dst + 128)"
   ]
  },
  {
   "cell_type": "code",
   "execution_count": null,
   "metadata": {},
   "outputs": [],
   "source": [
    "dst = cv2.Laplacian(moon, -1, 3)\n",
    "plt.imshow(dst)"
   ]
  },
  {
   "cell_type": "markdown",
   "metadata": {},
   "source": [
    "7. Efekt wyostrzenia uzyskuje się po odjęciu/dodaniu (zależy do maski) rezultatu filtracji laplasjanowej i oryginalnego obrazu. Wyświetl na jednym wykresie: obraz oryginalny, sumę oryginału i wyniku filtracji oraz różnicę (bezwzględną) oryginału i wyniku filtracji.\n",
    " Uwaga. Aby uniknąć artefaktów, należy obraz wejściowy przekonwertować do formatu ze znakiem.\n",
    "\n"
   ]
  },
  {
   "cell_type": "code",
   "execution_count": null,
   "metadata": {},
   "outputs": [],
   "source": []
  },
  {
   "cell_type": "markdown",
   "metadata": {},
   "source": [
    "### Gradienty (wykorzystanie pierwszej pochodnej obrazu)\n",
    "\n",
    "1. Wczytaj obraz _kw.png_. Stwórz odpowiednie maski opisane w kolejnych punktach i dokonaj filtracji.\n",
    "2. Wykorzystując gradient Robertsa przeprowadź detekcję krawędzi - poprzez wykonanie konwolucji obrazu z daną maską:\n",
    "\\begin{equation}\n",
    "R1 = \\begin{bmatrix} 0 & 0 & 0 \\\\ -1 & 0 & 0 \\\\ 0 & 1 & 0 \\end{bmatrix}   \n",
    "R2 = \\begin{bmatrix} 0 & 0 & 0 \\\\ 0 & 0 & -1 \\\\ 0 & 1 & 0 \\end{bmatrix}\n",
    "\\end{equation}\n",
    "\n",
    "Wykorzystaj stworzony wcześniej kod (przy laplasjanie) - dwie metody normalizacji oraz sposób wyświetlania.\n",
    "\n",
    "3. Analogicznie przeprowadź detekcję krawędzi za pomocą gradientu Prewitta (pionowy i poziomy)\n",
    "\\begin{equation}\n",
    "P1 = \\begin{bmatrix} -1 & 0 & 1 \\\\ -1 & 0 & 1 \\\\ -1 & 0 & 1 \\end{bmatrix}   \n",
    "P2 = \\begin{bmatrix} -1 & -1 & -1 \\\\ 0 & 0 & 0 \\\\ 1 & 1 & 1 \\end{bmatrix}\n",
    "\\end{equation}\n",
    "\n",
    "4. Podobnie skonstruowany jest gradient Sobela (występuje osiem masek, zaprezentowane są dwie ``prostopadłe''):\n",
    "\\begin{equation}\n",
    "S1 = \\begin{bmatrix} -1 & 0 & 1 \\\\ -2 & 0 & 2 \\\\ -1 & 0 & 1 \\end{bmatrix}   \n",
    "S2 = \\begin{bmatrix} -1 & -2 & -1 \\\\ 0 & 0 & 0 \\\\ 1 & 2 & 1 \\end{bmatrix}\n",
    "\\end{equation}\n",
    "\n",
    "Przeprowadź detekcję krawędzi za pomocą gradientu Sobela. "
   ]
  },
  {
   "cell_type": "code",
   "execution_count": null,
   "metadata": {
    "scrolled": true
   },
   "outputs": [],
   "source": [
    "kw = cv2.imread('kw.png')\n",
    "\n",
    "R1 = np.array([[0, 0, 0], [-1, 0, 0], [0, 1, 0]])\n",
    "R2 = np.array([[0, 0, 0], [0, 0, -1], [0, 1, 0]])\n",
    "P1 = np.array([[-1, 0, 1], [-1, 0, 1], [-1, 0, 1]])\n",
    "P2 = np.array([[-1, -1, -1], [0, 0, 0], [1, 1, 1]])\n",
    "S1 = np.array([[-1, 0, 1], [-2, 0, 2], [-1, 0, 1]])\n",
    "S2 = np.array([[-1, -2, -1], [0, 0, 0], [1, 2, 1]])\n",
    "\n",
    "def mask_filter(img,M):\n",
    "    dst = cv2.filter2D(img, -1, M)\n",
    "\n",
    "    dst1 = abs(dst)\n",
    "    dst2 = dst + 128\n",
    "\n",
    "    f,a = plt.subplots(2,3)\n",
    "    f.set_size_inches(20,10)\n",
    "    a[0,0].imshow(img)\n",
    "    a[0,1].imshow(dst1)\n",
    "    a[0,2].imshow(dst1 + img)\n",
    "    a[1,0].imshow(img)\n",
    "    a[1,1].imshow(dst2)\n",
    "    a[1,2].imshow(abs(dst2 - img))\n",
    "    \n",
    "mask_filter(kw, R1)\n",
    "mask_filter(kw, R2)\n",
    "mask_filter(kw, P1)\n",
    "mask_filter(kw, P2)\n",
    "mask_filter(kw, S1)\n",
    "mask_filter(kw, S2)\n",
    "\n"
   ]
  },
  {
   "cell_type": "markdown",
   "metadata": {},
   "source": [
    "5. Na podstawie dwóch ortogonalnych masek np. Sobela można stworzyć tzw. filtr kombinowany - pierwiastek kwadratowy z sumy kwadratów gradientów:\n",
    "\\begin{equation}\n",
    "OW = \\sqrt{(O * S1)^2 + (O * S2)^2}\n",
    "\\end{equation}\n",
    "gdzie:  $OW$ - obraz wyjściowy, $O$ - obraz oryginalny (wejściowy), $S1,S2$ - maski Sobela, $*$ - operacja konwolucji.\n",
    "\n",
    "Zaimplementuj filtr kombinowany.\n",
    "\n",
    "Uwaga. Proszę zwrócić uwagę na konieczność zmiany formatu danych obrazu wejściowego - na typ znakiem\n",
    "\n"
   ]
  },
  {
   "cell_type": "code",
   "execution_count": null,
   "metadata": {},
   "outputs": [],
   "source": [
    "kw = cv2.imread('kw.png').astype('float32')\n",
    "\n",
    "OW = np.sqrt(cv2.filter2D(kw, -1, S1)**2 + cv2.filter2D(kw, -1, S2)**2)\n",
    "\n",
    "plt.imshow(np.uint8(abs(OW)), 'gray')"
   ]
  },
  {
   "cell_type": "markdown",
   "metadata": {},
   "source": [
    "6. Istnieje alternatywna wersja filtra kombinowanego, która zamiast pierwiastka z sumy kwadratów wykorzystuje sumę modułów (prostsze obliczenia). \n",
    "Zaimplementuj tę wersję. "
   ]
  },
  {
   "cell_type": "code",
   "execution_count": null,
   "metadata": {
    "scrolled": true
   },
   "outputs": [],
   "source": [
    "OW2 = np.abs(cv2.filter2D(kw, -1, S1)) + np.abs(cv2.filter2D(kw, -1, S2))\n",
    "plt.imshow(np.uint8(OW2), 'gray')"
   ]
  },
  {
   "cell_type": "markdown",
   "metadata": {},
   "source": [
    "7. Wczytaj plik _jet.png_ (zamiast _kw.png_).\n",
    "Sprawdź działanie obu wariantów filtracji kombinowanej."
   ]
  },
  {
   "cell_type": "code",
   "execution_count": null,
   "metadata": {
    "pycharm": {
     "name": "#%%\n"
    }
   },
   "outputs": [],
   "source": [
    "jet = cv2.imread('jet.png').astype('float32')\n",
    "\n",
    "OW = np.sqrt(cv2.filter2D(jet, -1, S1)**2 + cv2.filter2D(jet, -1, S2)**2)\n",
    "\n",
    "plt.imshow(np.uint8(abs(OW)), 'gray')\n",
    "                 \n",
    "plt.show()\n",
    "                 \n",
    "                 \n",
    "OW2 = np.abs(cv2.filter2D(jet, -1, S1)) + np.abs(cv2.filter2D(jet, -1, S2))\n",
    "plt.imshow(np.uint8(OW2), 'gray')"
   ]
  },
  {
   "cell_type": "code",
   "execution_count": null,
   "metadata": {},
   "outputs": [],
   "source": []
  }
 ],
 "metadata": {
  "celltoolbar": "Raw Cell Format",
  "kernelspec": {
   "display_name": "Python 3",
   "language": "python",
   "name": "python3"
  },
  "language_info": {
   "codemirror_mode": {
    "name": "ipython",
    "version": 3
   },
   "file_extension": ".py",
   "mimetype": "text/x-python",
   "name": "python",
   "nbconvert_exporter": "python",
   "pygments_lexer": "ipython3",
   "version": "3.8.6"
  }
 },
 "nbformat": 4,
 "nbformat_minor": 4
}
