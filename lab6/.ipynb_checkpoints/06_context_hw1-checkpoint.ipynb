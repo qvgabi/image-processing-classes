{
 "cells": [
  {
   "cell_type": "markdown",
   "metadata": {
    "collapsed": true,
    "pycharm": {
     "name": "#%% md\n"
    }
   },
   "source": [
    "# Mediana dla obrazu kolorowego\n",
    "\n",
    "Idea filtracji medianowej jest dość prosta dla obrazów w odcieniach szarości.\n",
    "Dla obrazów kolorowych trudniej jest określić kryterium wg. którego szeregowane będą wartości, z których wyznaczana będzie mediana.\n",
    "\n",
    "Jedną z możliwości wykonania filtracji medianowej dla obrazów kolorowych (na podstawie *The Image Processing Handbook*, J. Russ) jest wykorzystanie następującej definicji mediany:\n",
    "``mediana to ten piksel z otoczenia, którego odległość do innych pikseli z otoczenia jest najmniejsza''.\n",
    "Jako miarę odległości wykorzystujemy pierwiastek z sumy kwadratów różnic poszczególnych składowych R,G,B.\n",
    "Zatem odległość między dwoma pikselami wyraża się wzorem:\n",
    "\\begin{equation}\n",
    "dRGB = \\sqrt{(R_1-R_2)^2+(G_1-G_2)^2+(B_1-B_2)^2}\n",
    "\\end{equation}\n",
    "\n",
    "Warto zwrócić uwagę, że istnieje wiele możliwości zdefiniowania porównywania wielkości wektorowych (jeden piksel to wektor o trzech składowych).\n",
    "Można zamiast odległości wykorzystać kąt albo połączyć oba parametry.\n",
    "Ponadto istnieje możliwość dodania do wektora dodatkowych składowych - tak aby lepiej opisać piksel.\n",
    "\n",
    "Celem zadania jest implementacja opisanego algorytmu.\n",
    "\n",
    "1. Wczytaj obraz *lenaRGBSzum.png* (dostępny na git).\n",
    "2. Zdefiniuj rozmiar okna.\n",
    "3. Wykonaj pętle po pikselach, dla których okno jest zdefiniowane (pomiń brzeg obrazu).\n",
    "4. Dla każdego piksela pobierz okno o właściwym rozmiarze.\n",
    "5. Wykonaj pętle po oknie, wewnątrz której obliczona zostanie suma odległości.\n",
    "    - Obliczanie różnicy: `window - window[rowWin, colWin]`.\n",
    "    - Obliczanie kwadratów: `np.square`.\n",
    "    - Obliczanie pierwiastka: `np.sqrt`.\n",
    "    - Obliczanie sumy metodą `.sum`.\n",
    "6. Po obliczeniu macierzy odległości wyznacz argument elementu minimalnego.\n",
    "Wykorzystaj funkcję `np.argmin`.\n",
    "Argument funkcji zostanie spłaszczony, jeśli ma więcej niż jeden wymiar.\n",
    "Aby przekonwertować spłaszczony indeks na indeks macierzy wykorzystaj funkcję `np.unravel_index`.\n",
    "7. Przypisz odpowiedni wektor wartości do piksela obrazu wynikowego.\n",
    "8. Wyświetl obraz oryginalny i przefiltrowany.\n",
    "9. Przeprowadź dwa eksperymenty - dla obrazu _lenaRGB_ oraz _lenaRGBszum_."
   ]
  },
  {
   "cell_type": "code",
   "source": [
    "import matplotlib.pyplot as plt\n",
    "import cv2\n",
    "import math\n",
    "import numpy as np\n",
    "import os\n",
    "\n",
    "if not os.path.exists(\"lenaRGB.png\") :\n",
    "    !wget https://raw.githubusercontent.com/vision-agh/poc_sw/master/06_Context/lenaRGB.png --no-check-certificate\n",
    "if not os.path.exists(\"lenaRGBSzum.png\") :\n",
    "    !wget https://raw.githubusercontent.com/vision-agh/poc_sw/master/06_Context/lenaRGBSzum.png --no-check-certificate"
   ],
   "metadata": {
    "collapsed": false,
    "pycharm": {
     "name": "#%% Mediana dla obrazu kolorowego\n"
    }
   },
   "execution_count": null,
   "outputs": []
  }
 ],
 "metadata": {
  "kernelspec": {
   "display_name": "Python 3",
   "language": "python",
   "name": "python3"
  },
  "language_info": {
   "codemirror_mode": {
    "name": "ipython",
    "version": 2
   },
   "file_extension": ".py",
   "mimetype": "text/x-python",
   "name": "python",
   "nbconvert_exporter": "python",
   "pygments_lexer": "ipython2",
   "version": "2.7.6"
  }
 },
 "nbformat": 4,
 "nbformat_minor": 0
}