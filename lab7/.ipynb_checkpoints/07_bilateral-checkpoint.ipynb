{
 "cells": [
  {
   "cell_type": "markdown",
   "metadata": {
    "pycharm": {
     "name": "#%% md\n"
    }
   },
   "source": [
    "# Filtracja bilateralna"
   ]
  },
  {
   "cell_type": "markdown",
   "metadata": {
    "pycharm": {
     "name": "#%% md\n"
    }
   },
   "source": [
    "## Konwolucja obrazu z filtrem o zadanych współczynnikach\n",
    "\n",
    "Splot (konwolucję) obrazu wejściowego $I$ z filtrem $\\psi$ dla ustalonego punktu obrazu $\\mathbf{x}$ można przedstawić następująco:\n",
    "\n",
    "\\begin{equation}\n",
    "\\hat{I}(\\mathbf{x}) = \\frac{1}{W_N}\\sum_{\\mathbf{p} \\in \\eta(\\mathbf{x})} \\psi(||\\mathbf{p}-\\mathbf{x}||)I(\\mathbf{p})\n",
    "\\end{equation}\n",
    "\n",
    "gdzie:\n",
    "- $\\hat{I}$ jest obrazem wynikowym (przefiltrowanym),\n",
    "- $W_N = \\sum_y \\psi(y)$ jest parametrem normalizującym współczynniki filtra $\\psi$,\n",
    "- $||\\cdot||$ jest odległością między punktami obrazu $\\mathbf{x}$ i $\\mathbf{p}$ według ustalonej metryki (np. norma $L_2$). Uwaga, proszę pamiętać, że zarówno $\\mathbf{x}$, jak i $\\mathbf{p}$ to współrzędne przestrzenne,\n",
    "- $\\eta(\\mathbf{x})$ jest otoczeniem punktu $\\mathbf{x}$.\n",
    "\n",
    "Funkcja $\\psi$ decyduje o charakterze filtracji. Dla filtru Gaussowskiego:\n",
    "\n",
    "\\begin{equation}\n",
    "\\psi(y) = G_{\\delta_s}(y)\n",
    "\\end{equation}\n",
    "\n",
    "gdzie: $G_{\\delta_s}(y)$ jest funkcją Gaussa z parametrem skali $\\delta_s$.\n",
    "\n",
    "Opisaną powyżej filtrację realizowaliśmy w ramach ćwiczenia \"Przetwarzanie wstępne. Filtracja kontekstowa.\""
   ]
  },
  {
   "cell_type": "markdown",
   "metadata": {
    "pycharm": {
     "name": "#%% md\n"
    }
   },
   "source": [
    "## Filtracja bilateralna\n",
    "\n",
    "Wadą klasycznego splotu jest brak adaptacji współczynników filtra do lokalnego otoczenia $\\eta(\\mathbf{x})$ filtrowanego punktu $\\mathbf{x}$.\n",
    "Oznacza to wykorzystanie tych samych współczynników filtra $\\psi$ niezależnie od tego czy otoczenie jest względnie jednorodne lub zawiera krawędzie obiektów (w tym przypadku dochodzi do \"rozmywania\" krawędzi).\n",
    "Filtracja bilateralna uwzględnia lokalne otoczenie filtrowanego punktu, w ten sposób, że parametry filtra zmieniają się w zależności od \"wyglądu\" otocznia.\n",
    "\n",
    "\n",
    "Współczynniki filtra obliczane są na podstawie odległości filtrowanego punktu $\\mathbf{x}$ od każdego punktu otoczenia $\\mathbf{p}$ w dziedzinie przestrzennej obrazu (tak jak przy typowym filtrze np. Gaussa) oraz odległości punktów w przeciwdziedzinie obrazu (np. na podstawie różnicy w jasności pikseli dla obrazu w odcieniach szarości):\n",
    "\n",
    "\\begin{equation}\n",
    "\\hat{I}(\\mathbf{x}) = \\frac{1}{W_N}\\sum_{\\mathbf{p} \\in \\eta(\\mathbf{x})} \\psi(||\\mathbf{p}-\\mathbf{x}||) \\gamma(|I(\\mathbf{p}) - I(\\mathbf{x})|) I(\\mathbf{p})\n",
    "\\end{equation}\n",
    "gdzie:\n",
    "- $W_N$ jest współczynnikiem normalizującym filtr,\n",
    "- $\\gamma$ jest funkcją odległości w przeciwdziedzinie obrazu, np. $\\gamma(y)=\\exp(-\\frac{y^2}{2\\delta_r^2})$\n",
    "- parametr $\\delta_r$ jest utożsamiany z poziomem szumu w obrazie i należy go dobrać w sposób empiryczny.\n",
    "\n",
    "Proszę chwilę zastanowić się nad powyższym równaniem, w szczególności nad funkcją $\\gamma$. Proszę wyznaczyć, jaka będzie wartość funkcji dla pikseli podobnych (różnica 0, 1, 2), a skrajnie różnych (255, 200).\n",
    "\n",
    "##  Realizacja ćwiczenia\n",
    "\n",
    "### Wczytanie danych\n",
    "\n",
    "1. Wczytaj dane z pliku *MR_data.mat*. W tym celu wykorzystaj funkcję `loadmat` z pakietu scipy:\n",
    "        from scipy.io import loadmat\n",
    "        mat = loadmat('MR_data.mat')\n",
    "\n",
    "2. Wczytany plik zawiera 5 obrazów: *I_noisefree*, *I_noisy1*, *I_noisy2*, *I_noisy3* oraz *I_noisy4*. Odczytać je można w następujący sposób:\n",
    "        Input = mat['I_noisy1']\n",
    "\n",
    "3.Wyświetl wybrany obraz z pliku *MR_data.mat*. Zagadka - co to za obrazowanie medyczne?"
   ]
  },
  {
   "cell_type": "code",
   "execution_count": null,
   "metadata": {
    "collapsed": false,
    "jupyter": {
     "outputs_hidden": false
    },
    "pycharm": {
     "name": "#%% Zadanie 1 - wyświetlanie\n"
    }
   },
   "outputs": [],
   "source": [
    "from matplotlib import pyplot as plt\n",
    "import numpy as np\n",
    "from scipy.io import loadmat\n",
    "import math\n",
    "import os\n",
    "\n",
    "if not os.path.exists(\"MR_data.mat\") :\n",
    "    !wget https://raw.githubusercontent.com/vision-agh/poc_sw/master/07_Bilateral/MR_data.mat --no-check-certificate\n",
    "\n",
    "#TODO Samodzielna\n",
    "\n",
    "mat = loadmat('MR_data.mat')\n",
    "Input1 = mat['I_noisy1']\n",
    "Input2 = mat['I_noisy2']\n",
    "Input3 = mat['I_noisy3']\n",
    "Input4 = mat['I_noisy4']\n",
    "INF = mat['I_noisefree']\n",
    "\n",
    "\n",
    "f,a = plt.subplots(1,5)\n",
    "f.set_size_inches(20,10)\n",
    "a[0].imshow(Input1,'gray')\n",
    "a[1].imshow(Input2,'gray')\n",
    "a[2].imshow(Input3,'gray')\n",
    "a[3].imshow(Input4,'gray')\n",
    "a[4].imshow(INF,'gray')\n",
    "\n",
    "\n"
   ]
  },
  {
   "cell_type": "markdown",
   "metadata": {
    "pycharm": {
     "name": "#%% md\n"
    }
   },
   "source": [
    "### \"Klasyczna\" konwolucja\n",
    "\n",
    "1. Zdefiniuj parametry filtra Gaussowskiego: rozmiar okna i wariancję $\\delta_S$.\n",
    "2. Oblicz współczynniki filtra na podstawie zdefiniowanych parametrów (najprościej w ramach podwójnej pętli for).\n",
    "2. Sprawdź ich poprawność i zwizualizuj filtr (tak jak w ćwiczeniu pt. \"Przetwarzanie wstępne. Filtracja kontekstowa.\").\n",
    "3. Wykonaj kopię obrazu wejściowego: `IConv = Input.copy()`\n",
    "4. Wykonaj podwójną pętlę po obrazie. Pomiń ramkę, dla której nie jest zdefiniowany kontekst o wybranej wielkości.\n",
    "5. W każdej iteracji stwórz dwuwymiarową tablicę zawierającą aktualny kontekst.\n",
    "6. Napisz funkcję, która będzie obliczała nową wartość piksela.\n",
    "Argumentem tej funkcji są aktualnie przetwarzane okno i współczynniki filtra.\n",
    "7. Obliczoną wartość przypisz do odpowiedniego piksela kopii obrazu wejściowego.\n",
    "8. Wyświetl wynik filtracji.\n",
    "9. Porównaj wynik z obrazem oryginalnym."
   ]
  },
  {
   "cell_type": "code",
   "execution_count": null,
   "metadata": {
    "collapsed": false,
    "jupyter": {
     "outputs_hidden": false
    },
    "pycharm": {
     "name": "#%% Zadanie 2 - konwolucja\n"
    }
   },
   "outputs": [],
   "source": [
    "#TODO Samodzielna\n",
    "import random\n",
    "\n",
    "kernel = 3\n",
    "sigma = 1\n",
    "mask = np.zeros((kernel,kernel))\n",
    "m = kernel//2\n",
    "for i in range(mask.shape[1]):\n",
    "    for j in range(mask.shape[0]):\n",
    "        mean = np.sqrt((i-m)**2 + (j-m)**2) \n",
    "        mask[i,j] = np.exp(-((m-i)**2 + (m-j)**2)/(2*sigma**2))\n",
    "mask = mask/mask.sum()\n",
    "        \n",
    "        \n",
    "def fgaussian(size, sigma):\n",
    "     m = n = size\n",
    "     h, k = m//2, n//2\n",
    "     x, y = np.mgrid[-h:h+1, -k:k+1]\n",
    "     g = np.exp(-(x**2 + y**2)/(2*sigma**2))\n",
    "     return g /g.sum()\n",
    "    \n",
    "    \n",
    "def mesh(fun, size):\n",
    "    fig = plt.figure()\n",
    "    ax = fig.gca(projection='3d')\n",
    "    \n",
    "\n",
    "    X = np.arange(-size//2, size//2, 1)\n",
    "    Y = np.arange(-size//2, size//2, 1)\n",
    "    X, Y = np.meshgrid(X, Y)\n",
    "    Z = fun\n",
    "    \n",
    "    ax.plot_surface(X, Y, Z)\n",
    "    \n",
    "    plt.show()\n",
    "    \n",
    "mask1 = fgaussian(3,255)\n",
    "print(mask)\n",
    "print(mask1)\n",
    "mesh(mask,3)\n"
   ]
  },
  {
   "cell_type": "code",
   "execution_count": null,
   "metadata": {},
   "outputs": [],
   "source": [
    "def fgaussian(size, sigma):\n",
    "     m = n = size\n",
    "     h, k = m//2, n//2\n",
    "     x, y = np.mgrid[-h:h+1, -k:k+1]\n",
    "     g = np.exp(-(x**2 + y**2)/(2*sigma**2))\n",
    "     return g /g.sum()\n",
    "\n",
    "def new_pixel(curr_wind, gauss):\n",
    "    return np.sum(curr_wind*gauss)\n",
    "    \n",
    "\n",
    "def conv(image, k, sigma):\n",
    "    gauss = fgaussian(k,sigma)\n",
    "    IConv = image.copy()\n",
    "    mask = np.zeros((kernel))\n",
    "    for x in range(k//2,image.shape[1]-k//2):\n",
    "        for y in range(k//2,image.shape[0]-k//2):\n",
    "            now = image[x-k//2:x+k//2+1,y-k//2:y+k//2+1]\n",
    "            IConv[x,y] = new_pixel(now,gauss)\n",
    "            \n",
    "    return IConv\n",
    "            \n",
    "            \n",
    "kernel = 3\n",
    "sigma = 1\n",
    "            \n",
    "f,a = plt.subplots(1,2)\n",
    "f.set_size_inches(20,10)\n",
    "a[0].imshow(Input1,'gray')\n",
    "a[1].imshow(conv(Input1,kernel,sigma),'gray')"
   ]
  },
  {
   "cell_type": "markdown",
   "metadata": {
    "pycharm": {
     "name": "#%% md\n"
    }
   },
   "source": [
    "### Filtracja bilateralna\n",
    "\n",
    "1. Zdefiniuj dodatkowy parametr: wariancję $\\delta_R$.\n",
    "3. Wykonaj kopię obrazu wejściowego: `IBilateral = Input.copy()`\n",
    "4. Wykonaj podwójną pętlę po obrazie. Pomiń ramkę, dla której nie jest zdefiniowany kontekst o wybranej wielkości.\n",
    "5. W każdej iteracji stwórz dwuwymiarową tablicę zawierającą aktualny kontekst.\n",
    "6. Napisz funkcję, która będzie obliczała nową wartość piksela.\n",
    "Argumentami funkcji są aktualnie przetwarzane okno, współczynniki filtra gausowskiego (takie same jak wcześniej) i wariancja $\\delta_R$.\n",
    "7. Oblicz odległość w przeciwdziedzinie (dla wartości pikseli).\n",
    "8. Oblicz funkcję Gaussa dla obliczonych odległości z zadanym parametrem.\n",
    "9. Wykonaj normalizację obliczonych współczynników.\n",
    "10. Obliczoną wartość przypisz do odpowiedniego piksela kopii obrazu wejściowego.\n",
    "11. Wyświetl wynik filtracji.\n",
    "12. Porównaj wynik z obrazem oryginalnym."
   ]
  },
  {
   "cell_type": "code",
   "execution_count": null,
   "metadata": {},
   "outputs": [],
   "source": [
    "kernel = 3\n",
    "sigma_s = 1\n",
    "sigma_r = 30\n",
    "\n",
    "def fgaussian(size, sigma):\n",
    "     m = n = size\n",
    "     h, k = m//2, n//2\n",
    "     x, y = np.mgrid[-h:h+1, -k:k+1]\n",
    "     g = np.exp(-(x**2 + y**2)/(2*sigma**2))\n",
    "     return g /g.sum()\n",
    "\n",
    "def new_pixel(curr_wind, gauss,sigmaR):\n",
    "    mask = curr_wind.copy()\n",
    "    m = mask.shape[1]//2\n",
    "    for i in range(curr_wind.shape[1]):\n",
    "        for j in range(curr_wind.shape[0]):\n",
    "            mask[i,j] = np.exp(-((m-i)**2 + (m-j)**2)/(2*sigmaR**2))\n",
    "    mask = mask/mask.sum()\n",
    "    return np.sum(np.sum(curr_wind*gauss)*mask)\n",
    "    \n",
    "\n",
    "def bilateral(image, k, sigma_s,sigma_r):\n",
    "    IBilateral = image.copy()\n",
    "    gauss = fgaussian(k,sigma_s)\n",
    "    for x in range(k//2,image.shape[1]-k//2):\n",
    "        for y in range(k//2,image.shape[0]-k//2):\n",
    "            now = image[x-k//2:x+k//2+1,y-k//2:y+k//2+1]\n",
    "            IBilateral[x,y] = new_pixel(now,gauss,sigma_r)\n",
    "            \n",
    "    return IBilateral\n",
    "\n",
    "f,a = plt.subplots(1,2)\n",
    "f.set_size_inches(20,10)\n",
    "a[0].imshow(Input1,'gray')\n",
    "a[1].imshow(bilateral(Input1,kernel,sigma_s,sigma_r),'gray')"
   ]
  },
  {
   "cell_type": "code",
   "execution_count": null,
   "metadata": {},
   "outputs": [],
   "source": []
  }
 ],
 "metadata": {
  "kernelspec": {
   "display_name": "Python 3",
   "language": "python",
   "name": "python3"
  },
  "language_info": {
   "codemirror_mode": {
    "name": "ipython",
    "version": 3
   },
   "file_extension": ".py",
   "mimetype": "text/x-python",
   "name": "python",
   "nbconvert_exporter": "python",
   "pygments_lexer": "ipython3",
   "version": "3.8.6"
  }
 },
 "nbformat": 4,
 "nbformat_minor": 4
}
