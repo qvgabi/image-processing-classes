{
 "cells": [
  {
   "cell_type": "code",
   "execution_count": null,
   "metadata": {},
   "outputs": [],
   "source": [
    "THRESH_1 = 120\n",
    "THRESH_2 = 200\n",
    "img = cv2.imread(PATH, cv2.IMREAD_GRAYSCALE)\n",
    "canny = cv2.Canny(img, THRESH_1, THRESH_2, None, 3, 1)\n",
    "\n",
    "fig, axs = plt.subplots(1, 2, figsize=(15, 15))\n",
    "axs[0].imshow(img, 'gray')\n",
    "axs[0].axis('off')\n",
    "axs[1].imshow(canny, 'gray')\n",
    "axs[1].axis('off')"
   ]
  }
 ],
 "metadata": {
  "kernelspec": {
   "display_name": "Python 3",
   "language": "python",
   "name": "python3"
  },
  "language_info": {
   "codemirror_mode": {
    "name": "ipython",
    "version": 3
   },
   "file_extension": ".py",
   "mimetype": "text/x-python",
   "name": "python",
   "nbconvert_exporter": "python",
   "pygments_lexer": "ipython3",
   "version": "3.8.6"
  }
 },
 "nbformat": 4,
 "nbformat_minor": 4
}
